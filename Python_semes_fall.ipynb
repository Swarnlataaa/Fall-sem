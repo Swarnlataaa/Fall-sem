{
  "nbformat": 4,
  "nbformat_minor": 0,
  "metadata": {
    "colab": {
      "provenance": [],
      "collapsed_sections": [],
      "include_colab_link": true
    },
    "kernelspec": {
      "name": "python3",
      "display_name": "Python 3"
    },
    "language_info": {
      "name": "python"
    }
  },
  "cells": [
    {
      "cell_type": "markdown",
      "metadata": {
        "id": "view-in-github",
        "colab_type": "text"
      },
      "source": [
        "<a href=\"https://colab.research.google.com/github/Swarnlataaa/Fall-sem/blob/main/Python_semes_fall.ipynb\" target=\"_parent\"><img src=\"https://colab.research.google.com/assets/colab-badge.svg\" alt=\"Open In Colab\"/></a>"
      ]
    },
    {
      "cell_type": "code",
      "execution_count": null,
      "metadata": {
        "id": "CnY_gnCrwVPO"
      },
      "outputs": [],
      "source": [
        "\n",
        "# Python program to check if the input number is odd or even.\n",
        "# A number is even if division by 2 gives a remainder of 0.\n",
        "# If the remainder is 1, it is an odd number.\n",
        "\n",
        "num = int(input(\"Enter a number: \"))\n",
        "if (num % 2) == 0:\n",
        "   print(\"{0} is Even\".format(num))\n",
        "else:\n",
        "   print(\"{0} is Odd\".format(num))"
      ]
    },
    {
      "cell_type": "code",
      "source": [
        "#display current date and time\n",
        "import datetime\n",
        "def showMessage(msg):\n",
        "    print(msg)\n",
        "showMessage(\"Hello!\")\n",
        "def showMessage(msg):\n",
        "    now=datetime.datetime.now()\n",
        "    print(msg)\n",
        "    print(str(now))\n",
        "showMessage(\"Current Date and Time is :\")"
      ],
      "metadata": {
        "id": "QyWNZxi2ZNs0"
      },
      "execution_count": null,
      "outputs": []
    },
    {
      "cell_type": "code",
      "source": [],
      "metadata": {
        "id": "8-b8cJuYGd_s"
      },
      "execution_count": null,
      "outputs": []
    },
    {
      "cell_type": "code",
      "source": [
        "#get python version\n",
        "python --version\n",
        "# using sys module\n",
        "import sys\n",
        "print (sys.version)\n",
        "#using platform module\n",
        "import platform\n",
        "print(platform.python_version())\n",
        "#Both code snippets output the Python version in the string format. If necessary, you can also get the version number in the tuple format. The tuple will contain five components: major, minor, micro, release level, and serial:\n",
        "print (sys.version_info)\n",
        "# sys.version_info(major=3, minor=8, micro=3, releaselevel='final', serial=0)\n",
        "# One can easily obtain the individual component of this tuple using index \n",
        "sys.version_info[0]  "
      ],
      "metadata": {
        "id": "P3tyeSljZxJ5"
      },
      "execution_count": null,
      "outputs": []
    },
    {
      "cell_type": "code",
      "source": [
        "counter = 100          # An integer assignment\n",
        "miles   = 1000.0       # A floating point\n",
        "name    = \"John\"       # A string"
      ],
      "metadata": {
        "id": "GXQvTpf86YrC"
      },
      "execution_count": null,
      "outputs": []
    },
    {
      "cell_type": "code",
      "source": [
        "import calendar\n",
        "year = 2018\n",
        "month = 12\n",
        "print(calendar.month(year, month))\n",
        "\n",
        "#First, we need to import the calendar module\n",
        "#Then initialize the year\n",
        "#The built-in function calendar() inside the module takes the year\n",
        "#To print, the calendar for a particular year use the calendar.calendar(year)#"
      ],
      "metadata": {
        "id": "wTkmCV-X6ai1"
      },
      "execution_count": null,
      "outputs": []
    },
    {
      "cell_type": "code",
      "source": [
        "# Python Program to calculate the square root\n",
        "\n",
        "# Note: change this value for a different result\n",
        "num = 8 \n",
        "\n",
        "# To take the input from the user\n",
        "#num = float(input('Enter a number: '))\n",
        "\n",
        "num_sqrt = num ** 0.5\n",
        "print('The square root of %0.3f is %0.3f'%(num ,num_sqrt))\n"
      ],
      "metadata": {
        "id": "I0uh4Fvx7Vop"
      },
      "execution_count": null,
      "outputs": []
    },
    {
      "cell_type": "code",
      "source": [
        "# Find square root of real or complex numbers\n",
        "# Importing the complex math module\n",
        "import cmath\n",
        "\n",
        "num = 1+2j\n",
        "\n",
        "# To take input from the user\n",
        "#num = eval(input('Enter a number: '))\n",
        "\n",
        "num_sqrt = cmath.sqrt(num)\n",
        "print('The square root of {0} is {1:0.3f}+{2:0.3f}j'.format(num ,num_sqrt.real,num_sqrt.imag))\n"
      ],
      "metadata": {
        "id": "O9Nw_z9O7pHa"
      },
      "execution_count": null,
      "outputs": []
    },
    {
      "cell_type": "code",
      "source": [
        "#Perimeter = s1 + s2 + s3\n",
        "#Area = √(s*(s-s1)*(s-s2)*(s-s3))\n",
        "\n",
        "#where s = (s1 + s2 + s3)/2 \n",
        "\n",
        "#1\n",
        "s1 = float(input(\"Enter the first side of the triangle : \"))\n",
        "s2 = float(input(\"Enter the second side of the triangle : \"))\n",
        "s3 = float(input(\"Enter the third side of the triangle : \"))\n",
        "\n",
        "#2\n",
        "p = (s1 + s2 + s3)\n",
        "\n",
        "#3\n",
        "s = p/2\n",
        "\n",
        "#4\n",
        "area = (s * (s-s1) * (s-s2)*(s-s3))**0.5\n",
        "\n",
        "#5\n",
        "print(\"The perimeter of the triangle is : {0:.2f}\".format(p))\n",
        "print(\"The area of the triangle is : {0:.2f}\".format(area))"
      ],
      "metadata": {
        "id": "KJti2QfxAxKW"
      },
      "execution_count": null,
      "outputs": []
    },
    {
      "cell_type": "code",
      "source": [
        "# area of circle\n",
        "PI = 3.14\n",
        "r = float(input('Enter the radius of the circle :'))\n",
        "area = PI * r * r\n",
        "\n",
        "print(\"Area of the circle is : %.2f\" %area)\n",
        "\n",
        "#method 2\n",
        "\n",
        "import math\n",
        "\n",
        "r = float(input('Enter the radius of the circle :'))\n",
        "area = math.pi * r * r\n",
        "\n",
        "print(\"Area of the circle is : %.2f\" %area)"
      ],
      "metadata": {
        "id": "5mkxGfVSBDDG"
      },
      "execution_count": null,
      "outputs": []
    },
    {
      "cell_type": "code",
      "source": [
        "# square root using arithematic operator\n",
        "num = 25\n",
        "sqrt = num ** (0.5)\n",
        "print(\"The square root of the number \"+str(num)+\" is \"+str(sqrt))"
      ],
      "metadata": {
        "id": "3eJKk1utBU-L"
      },
      "execution_count": null,
      "outputs": []
    },
    {
      "cell_type": "code",
      "source": [],
      "metadata": {
        "id": "pneB_oeQB1Kx"
      },
      "execution_count": null,
      "outputs": []
    },
    {
      "cell_type": "code",
      "source": [
        "\n",
        "a = int(input(\"Input an integer : \"))\n",
        "n1 = int( \"%s\" % a )\n",
        "n2 = int( \"%s%s\" % (a,a) )\n",
        "n3 = int( \"%s%s%s\" % (a,a,a) )\n",
        "print (n1+n2+n3)\n"
      ],
      "metadata": {
        "id": "DjlVDHUQcfvz"
      },
      "execution_count": null,
      "outputs": []
    },
    {
      "cell_type": "code",
      "source": [
        "num = 11\n",
        "# If given number is greater than 1\n",
        "if num > 1:\n",
        "\t# Iterate from 2 to n / 2\n",
        "\tfor i in range(2, int(num/2)+1):\n",
        "\t\t# If num is divisible by any number between\n",
        "\t\t# 2 and n / 2, it is not prime\n",
        "\t\tif (num % i) == 0:\n",
        "\t\t\tprint(num, \"is not a prime number\")\n",
        "\t\t\tbreak\n",
        "\telse:\n",
        "\t\tprint(num, \"is a prime number\")\n",
        "else:\n",
        "\tprint(num, \"is not a prime number\")\n"
      ],
      "metadata": {
        "id": "JyvAHp4F1lt5"
      },
      "execution_count": null,
      "outputs": []
    },
    {
      "cell_type": "code",
      "source": [
        "from math import sqrt\n",
        "# n is the number to be check whether it is prime or not\n",
        "n = 1\n",
        "\n",
        "# this flag maintains status whether the n is prime or not\n",
        "prime_flag = 0\n",
        "\n",
        "if(n > 1):\n",
        "\tfor i in range(2, int(sqrt(n)) + 1):\n",
        "\t\tif (n % i == 0):\n",
        "\t\t\tprime_flag = 1\n",
        "\t\t\tbreak\n",
        "\tif (prime_flag == 0):\n",
        "\t\tprint(\"True\")\n",
        "\telse:\n",
        "\t\tprint(\"False\")\n",
        "else:\n",
        "\tprint(\"False\")\n",
        "\n",
        "#fastest algorithm to find out prime numbers."
      ],
      "metadata": {
        "id": "zu7XUIp45oMf"
      },
      "execution_count": null,
      "outputs": []
    },
    {
      "cell_type": "code",
      "source": [
        "#program to print quadratic  equation\n",
        "import math\n",
        "\n",
        "a = float(input(\"Insert coefficient a: \"))\n",
        "b = float(input(\"Insert coefficient b: \"))\n",
        "c = float(input(\"Insert coefficient c: \"))\n",
        "\n",
        "discriminant = b**2 - 4 * a * c\n",
        "\n",
        "if discriminant >= 0:\n",
        "    x_1=(-b+math.sqrt(discriminant))/2*a\n",
        "    x_2=(-b-math.sqrt(discriminant))/2*a\n",
        "else:\n",
        "    x_1= complex((-b/(2*a)),math.sqrt(-discriminant)/(2*a))\n",
        "    x_2= complex((-b/(2*a)),-math.sqrt(-discriminant)/(2*a))\n",
        "\n",
        " \n",
        "if discriminant > 0:\n",
        "    print(\"The function has two distinct real roots: {} and {}\".format(x_1,x_2))\n",
        "elif discriminant == 0:\n",
        "    print(\"The function has one double root: \", x_1)\n",
        "else:\n",
        "    print(\"The function has two complex (conjugate) roots: {}  and {}\".format(x_1,x_2))\n",
        "\n",
        "\n",
        "\n"
      ],
      "metadata": {
        "id": "wZX5vWQQ84Kp"
      },
      "execution_count": null,
      "outputs": []
    },
    {
      "cell_type": "code",
      "source": [
        "#swap two variables\n",
        "# Python program to swap two variables\n",
        "\n",
        "x = 5\n",
        "y = 10\n",
        "\n",
        "# To take inputs from the user\n",
        "#x = input('Enter value of x: ')\n",
        "#y = input('Enter value of y: ')\n",
        "\n",
        "# create a temporary variable and swap the values\n",
        "temp = x\n",
        "x = y\n",
        "y = temp\n",
        "\n",
        "print('The value of x after swapping: {}'.format(x))\n",
        "print('The value of y after swapping: {}'.format(y))\n",
        "\n",
        "#swap without temporary variable\n",
        "x = 5\n",
        "y = 10\n",
        "\n",
        "x, y = y, x\n",
        "print(\"x =\", x)\n",
        "print(\"y =\", y)\n"
      ],
      "metadata": {
        "id": "rxZ0DV9iEDbC"
      },
      "execution_count": null,
      "outputs": []
    },
    {
      "cell_type": "markdown",
      "source": [
        "Collect input from the user </br>\n",
        "kilometers = float(input(‘How many kilometers?: ‘)) </br>\n",
        " conversion factor</br>\n",
        "conv_fac = 0.621371\n",
        " calculate miles</br>\n",
        "miles = kilometers * conv_fac</br>\n",
        "print(‘%0.3f kilometers is equal to %0.3f </br>\n",
        "miles’ %(kilometers,miles))"
      ],
      "metadata": {
        "id": "WbdhDZbLEvro"
      }
    },
    {
      "cell_type": "code",
      "source": [
        "# Python3 program to convert\n",
        "# kilometers to miles\n",
        "\n",
        "# driver code\n",
        "kilometers = 5.5\n",
        "\n",
        "# conversion factor\n",
        "conv = 0.621371\n",
        "\n",
        "# calculate miles\n",
        "miles = kilometers * conv\n",
        "print('%0.3f kilometers is equal to %0.3f miles' %(kilometers,miles))\n",
        "\n",
        "kilometers = 6.5\n",
        "\n",
        "# calculate miles\n",
        "miles = kilometers * conv\n",
        "print('%0.3f kilometers is equal to %0.3f miles' %(kilometers,miles))\n"
      ],
      "metadata": {
        "id": "H0l20EyQEX37"
      },
      "execution_count": null,
      "outputs": []
    },
    {
      "cell_type": "code",
      "source": [
        "# Temperature in celsius degree\n",
        "celsius = 40\n",
        "\n",
        "# Converting the temperature to\n",
        "# fehrenheit using the above\n",
        "# mentioned formula\n",
        "fahrenheit = (celsius * 1.8) + 32\n",
        "\n",
        "# printing the result\n",
        "print('%.2f Celsius is equivalent to: %.2f Fahrenheit'\n",
        "\t%(celsius, fahrenheit))\n"
      ],
      "metadata": {
        "id": "ioDKji3bF-mO"
      },
      "execution_count": null,
      "outputs": []
    },
    {
      "cell_type": "markdown",
      "source": [
        "While checking Python even or odd numbers, the modulus operator is used. <br/>The modulus operator returns the remainder obtained after a division is performed.\n",
        "</br> If the value returned after the application of the modulus operator is zero, then the program will print that the input number is even. Else, it will print the number is odd."
      ],
      "metadata": {
        "id": "JJHU8EIeGetc"
      }
    },
    {
      "cell_type": "code",
      "source": [
        "\n",
        "num = int (input (“Enter any number to test whether it is odd or even: “)\n",
        "\n",
        "if (num % 2) == 0:\n",
        "\n",
        "              print (“The number is even”)\n",
        "\n",
        "else:\n",
        "\n",
        "              print (“The provided number is odd”)\n",
        "\n",
        "Output:\n",
        "\n",
        "Enter any number to test whether it is odd or even:\n",
        "\n",
        "887\n",
        "\n",
        "887 is odd.\n"
      ],
      "metadata": {
        "id": "UvRqbXquF_1L"
      },
      "execution_count": null,
      "outputs": []
    },
    {
      "cell_type": "code",
      "source": [
        "def difference(n):\n",
        "    if n <= 17:\n",
        "        return 17 - n\n",
        "    else:\n",
        "        return (n - 17) * 2 \n",
        "\n",
        "print(difference(22))\n",
        "print(difference(14))\n",
        "\n",
        "#Write a Python program to get the difference between a given number and 17, if \n",
        "#the number is greater than 17 return double the absolute difference\n"
      ],
      "metadata": {
        "id": "6kCldhTGHIQk"
      },
      "execution_count": null,
      "outputs": []
    },
    {
      "cell_type": "markdown",
      "source": [
        "[execution of code](https:/https://www.w3resource.com/python-exercises/python-basic-exercise-16.php/)"
      ],
      "metadata": {
        "id": "gQnTcPtBI0ts"
      }
    },
    {
      "cell_type": "markdown",
      "source": [
        "Write a Python program to test whether a number is within 100 of 1000 or 2000.\n",
        "[test weather under 1kor 2k](https:/https://www.bing.com/ck/a?!&&p=e09774711b992ec3JmltdHM9MTY2NzUyMDAwMCZpZ3VpZD0wNjE1ZTM0OC1lNmI2LTYwMWYtMGJmYi1mMTYzZTc0MTYxOGQmaW5zaWQ9NTE5MQ&ptn=3&hsh=3&fclid=0615e348-e6b6-601f-0bfb-f163e741618d&psq=Write+a+Python+program+to+test+whether+a+number+is+within+100+of+1000+or+2000.&u=a1aHR0cHM6Ly93d3cudzNyZXNvdXJjZS5jb20vcHl0aG9uLWV4ZXJjaXNlcy9weXRob24tYmFzaWMtZXhlcmNpc2UtMTcucGhw&ntb=1/)"
      ],
      "metadata": {
        "id": "t8OTaPWRJa-Z"
      }
    },
    {
      "cell_type": "code",
      "source": [
        "def near_thousand(n):\n",
        "      return ((abs(1000 - n) <= 100) or (abs(2000 - n) <= 100))\n",
        "print(near_thousand(1000))\n",
        "print(near_thousand(900))\n",
        "print(near_thousand(800))   \n",
        "print(near_thousand(2200))\n"
      ],
      "metadata": {
        "id": "lM1wLONvI9yq"
      },
      "execution_count": null,
      "outputs": []
    },
    {
      "cell_type": "markdown",
      "source": [
        "Program to calculate the sum of three given numbers , if the values are equal then return the three times of their sum."
      ],
      "metadata": {
        "id": "oLKFUHi7XhPC"
      }
    },
    {
      "cell_type": "code",
      "source": [
        "def sum_thrice(x, y, z):\n",
        "\n",
        "     sum = x + y + z\n",
        "  \n",
        "     if x == y == z:\n",
        "      sum = sum * 3\n",
        "     return sum\n",
        "\n",
        "print(sum_thrice(1, 2, 3))\n",
        "print(sum_thrice(3, 3, 3))\n"
      ],
      "metadata": {
        "id": "NTDaOaGZXg1m"
      },
      "execution_count": null,
      "outputs": []
    },
    {
      "cell_type": "markdown",
      "source": [
        "Program to find factorial of a number using loop"
      ],
      "metadata": {
        "id": "yN6OMeCyXwbP"
      }
    },
    {
      "cell_type": "code",
      "source": [
        "# Python program to find the factorial of a number provided by the user.\n",
        "\n",
        "# change the value for a different result\n",
        "num = 7\n",
        "\n",
        "# To take input from the user\n",
        "#num = int(input(\"Enter a number: \"))\n",
        "\n",
        "factorial = 1\n",
        "\n",
        "# check if the number is negative, positive or zero\n",
        "if num < 0:\n",
        "   print(\"Sorry, factorial does not exist for negative numbers\")\n",
        "elif num == 0:\n",
        "   print(\"The factorial of 0 is 1\")\n",
        "else:\n",
        "   for i in range(1,num + 1):\n",
        "       factorial = factorial*i\n",
        "   print(\"The factorial of\",num,\"is\",factorial)\n"
      ],
      "metadata": {
        "id": "arTs9i1FX_wy"
      },
      "execution_count": null,
      "outputs": []
    },
    {
      "cell_type": "markdown",
      "source": [
        "Factorial using recursion"
      ],
      "metadata": {
        "id": "FpJXQRIdYKD7"
      }
    },
    {
      "cell_type": "code",
      "source": [
        "# Python program to find the factorial of a number provided by the user\n",
        "# using recursion\n",
        "\n",
        "def factorial(x):\n",
        "    \"\"\"This is a recursive function\n",
        "    to find the factorial of an integer\"\"\"\n",
        "\n",
        "    if x == 1:\n",
        "        return 1\n",
        "    else:\n",
        "        # recursive call to the function\n",
        "        return (x * factorial(x-1))\n",
        "\n",
        "\n",
        "# change the value for a different result\n",
        "num = 7\n",
        "\n",
        "# to take input from the user\n",
        "# num = int(input(\"Enter a number: \"))\n",
        "\n",
        "# call the factorial function\n",
        "result = factorial(num)\n",
        "print(\"The factorial of\", num, \"is\", result)"
      ],
      "metadata": {
        "id": "cERDhRYqYMcX"
      },
      "execution_count": null,
      "outputs": []
    },
    {
      "cell_type": "markdown",
      "source": [
        "Python to print maximum of 3 numbers"
      ],
      "metadata": {
        "id": "KZgqJxyFY8ag"
      }
    },
    {
      "cell_type": "code",
      "source": [
        "def maximum(a, b, c): \n",
        "   list = [a, b, c] \n",
        "   return max(list) \n",
        "# Driven code  \n",
        "x = int(input(\"Enter First number\"))\n",
        "y = int(input(\"Enter Second number\"))\n",
        "z = int(input(\"Enter Third number\"))\n",
        "print(\"Maximum Number is ::>\",maximum(x, y, z)) "
      ],
      "metadata": {
        "id": "d3JWeEwpZB_l"
      },
      "execution_count": null,
      "outputs": []
    },
    {
      "cell_type": "markdown",
      "source": [
        "Write program to find whether a given year is leap or not"
      ],
      "metadata": {
        "id": "yeZkq9HeZDdr"
      }
    },
    {
      "cell_type": "code",
      "source": [
        "# Python program to check if year is a leap year or not\n",
        "\n",
        "year = 2000\n",
        "\n",
        "# To get year (integer input) from the user\n",
        "# year = int(input(\"Enter a year: \"))\n",
        "\n",
        "# divided by 100 means century year (ending with 00)\n",
        "# century year divided by 400 is leap year\n",
        "if (year % 400 == 0) and (year % 100 == 0):\n",
        "    print(\"{0} is a leap year\".format(year))\n",
        "\n",
        "# not divided by 100 means not a century year\n",
        "# year divided by 4 is a leap year\n",
        "elif (year % 4 ==0) and (year % 100 != 0):\n",
        "    print(\"{0} is a leap year\".format(year))\n",
        "\n",
        "# if not divided by both 400 (century year) and 4 (not century year)\n",
        "# year is not leap year\n",
        "else:\n",
        "    print(\"{0} is not a leap year\".format(year))"
      ],
      "metadata": {
        "id": "bGBGvINfZblL"
      },
      "execution_count": null,
      "outputs": []
    },
    {
      "cell_type": "markdown",
      "source": [
        "Write a program which will find all such numbers which are divisible by 7 but are not a multiple of 5,between 2000 and 3200(both included)"
      ],
      "metadata": {
        "id": "MaWX7Q99Zv0e"
      }
    },
    {
      "cell_type": "code",
      "source": [
        "l=[]\n",
        "for i in range(2000, 3201):\n",
        "    if (i%7==0) and (i%5!=0):\n",
        "        l.append(str(i))\n",
        "\n",
        "print(','.join(l))"
      ],
      "metadata": {
        "id": "jyHSFVnlaBA1"
      },
      "execution_count": null,
      "outputs": []
    },
    {
      "cell_type": "markdown",
      "source": [
        "Write python program to check 5 and 11"
      ],
      "metadata": {
        "id": "aAgSNaEEaWk6"
      }
    },
    {
      "cell_type": "code",
      "source": [
        "# Python Program to Check Number is Divisible by 5 and 11\n",
        "\n",
        "number = int(input(\" Please Enter any Positive Integer : \"))\n",
        "\n",
        "if((number % 5 == 0) and (number % 11 == 0)):\n",
        "    print(\"Given Number {0} is Divisible by 5 and 11\".format(number))\n",
        "else:\n",
        "    print(\"Given Number {0} is Not Divisible by 5 and 11\".format(number))"
      ],
      "metadata": {
        "id": "rSk1GDmEaymA"
      },
      "execution_count": null,
      "outputs": []
    },
    {
      "cell_type": "markdown",
      "source": [
        "Python program to check whether a character is alphabet or not "
      ],
      "metadata": {
        "id": "7xAVFijRa34O"
      }
    },
    {
      "cell_type": "code",
      "source": [
        "# Python Program to check character is Alphabet or not\n",
        "ch = input(\"Please Enter Your Own Character : \")\n",
        "\n",
        "if((ch >= 'a' and ch <= 'z') or (ch >= 'A' and ch <= 'Z')):\n",
        "    print(\"The Given Character \", ch, \"is an Alphabet\")\n",
        "else:\n",
        "    print(\"The Given Character \", ch, \"is Not an Alphabet\")"
      ],
      "metadata": {
        "id": "J_MX8HBUbJ67"
      },
      "execution_count": null,
      "outputs": []
    },
    {
      "cell_type": "markdown",
      "source": [
        "Write a python program to input any character and check whether it is alphabet, digit or \n",
        "special character."
      ],
      "metadata": {
        "id": "yqCz3G6jbp2v"
      }
    },
    {
      "cell_type": "code",
      "source": [
        "# Python Program to check character is Alphabet or Digit\n",
        "ch = input(\"Please Enter Your Own Character : \")\n",
        "\n",
        "if((ch >= 'a' and ch <= 'z') or (ch >= 'A' and ch <= 'Z')): \n",
        "    print(\"The Given Character \", ch, \"is an Alphabet\") \n",
        "elif(ch >= '0' and ch <= '9'):\n",
        "    print(\"The Given Character \", ch, \"is a Digit\")\n",
        "else:\n",
        "    print(\"The Given Character \", ch, \"is Not an Alphabet or a Digit\")"
      ],
      "metadata": {
        "id": "HnE3ZS0tbtLP"
      },
      "execution_count": null,
      "outputs": []
    },
    {
      "cell_type": "markdown",
      "source": [
        "Write a python program to check whether a character is uppercase or lowercase \n",
        "alphabet.\n"
      ],
      "metadata": {
        "id": "k1v89YKBb3So"
      }
    },
    {
      "cell_type": "code",
      "source": [
        "# Python code to demonstrate working of\n",
        "# is.lower() method in strings\n",
        "\n",
        "#Take any string\n",
        "str = \"Live life to the Fullest\"\n",
        "\n",
        "# Traversing Each character of\n",
        "# the string to check whether\n",
        "# it is in lowercase\n",
        "for char in str:\n",
        "\tk = char.islower()\n",
        "\tif k == True:\n",
        "\t\tprint('True')\n",
        "\t\t\n",
        "\t# Break the Loop when you\n",
        "\t# get any lowercase character.\n",
        "\t\tbreak\n",
        "\n",
        "# Default condition if the string\n",
        "# does not have any lowercase character.\n",
        "if(k != 1):\n",
        "\tprint('False')\n"
      ],
      "metadata": {
        "id": "4fT2LEwxcvOL"
      },
      "execution_count": null,
      "outputs": []
    },
    {
      "cell_type": "markdown",
      "source": [
        " Write a python program to input week number and print week day."
      ],
      "metadata": {
        "id": "d_zV50Npc4Db"
      }
    },
    {
      "cell_type": "code",
      "source": [
        "# Python program to Find day of\n",
        "# the week for a given date\n",
        "import datetime\n",
        "import calendar\n",
        "\n",
        "def findDay(date):\n",
        "\tborn = datetime.datetime.strptime(date, '%d %m %Y').weekday()\n",
        "\treturn (calendar.day_name[born])\n",
        "\n",
        "# Driver program\n",
        "date = '03 02 2019'\n",
        "print(findDay(date))\n"
      ],
      "metadata": {
        "id": "3Bcr6ywNc7ai"
      },
      "execution_count": null,
      "outputs": []
    },
    {
      "cell_type": "markdown",
      "source": [
        " Write a python program to count total number of notes in given amount"
      ],
      "metadata": {
        "id": "JwY6o-a6dCxj"
      }
    },
    {
      "cell_type": "code",
      "source": [
        "def no_notes(a):\n",
        "  Q = [500, 200, 100, 50, 20, 10]\n",
        "  x = 0\n",
        "  for i in range(6):\n",
        "    q = Q[i]\n",
        "    x += int(a / q)\n",
        "    a = int(a % q)\n",
        "  if a > 0:\n",
        "    x = -1\n",
        "  return x\n",
        "print(no_notes(880))\n",
        "print(no_notes(1000))\n"
      ],
      "metadata": {
        "id": "2VSsf31XdHrZ"
      },
      "execution_count": null,
      "outputs": []
    },
    {
      "cell_type": "markdown",
      "source": [
        "Write a Python program to print all natural numbers from 1 to n. - using while loop"
      ],
      "metadata": {
        "id": "fSEkIij8dQYt"
      }
    },
    {
      "cell_type": "code",
      "source": [
        "number = int(input(\"Please Enter any Number: \"))\n",
        "i = 1\n",
        "\n",
        "print(\"The List of Natural Numbers from 1 to {0} are\".format(number)) \n",
        "\n",
        "while ( i <= number):\n",
        "    print (i, end = '  ')\n",
        "    i = i + 1"
      ],
      "metadata": {
        "id": "xrDvM7AYdU51"
      },
      "execution_count": null,
      "outputs": []
    },
    {
      "cell_type": "markdown",
      "source": [
        "Write a Python program to find sum of all odd numbers between 1 to n."
      ],
      "metadata": {
        "id": "w3p3XP1Xds2O"
      }
    },
    {
      "cell_type": "code",
      "source": [
        "maximum = int(input(\" Please Enter the Maximum Value : \"))\n",
        "Oddtotal = 0\n",
        "\n",
        "for number in range(1, maximum+1):\n",
        "    if(number % 2 != 0):\n",
        "        print(\"{0}\".format(number))\n",
        "        Oddtotal = Oddtotal + number\n",
        "\n",
        "print(\"The Sum of Odd Numbers from 1 to {0} = {1}\".format(number, Oddtotal)) "
      ],
      "metadata": {
        "id": "OHclp3eFdwJ3"
      },
      "execution_count": null,
      "outputs": []
    },
    {
      "cell_type": "markdown",
      "source": [
        "Count the number of digits in a number using recursion\n"
      ],
      "metadata": {
        "id": "jWi9YaE5eBxo"
      }
    },
    {
      "cell_type": "code",
      "source": [
        "Count = 0\n",
        "\n",
        "# Define a Recursive function\n",
        "def Counting(Number):\n",
        "    global Count\n",
        "    if(Number > 0):\n",
        "        Count = Count + 1\n",
        "        Counting(Number//10)\n",
        "    return Count\n",
        "\n",
        "# To take the input from the User\n",
        "Number = int(input(\"Enter any Number: \"))\n",
        "Count = Counting(Number)\n",
        "print(\"Number of Digits in a Given Number = %d\" %Count)"
      ],
      "metadata": {
        "id": "K-potVf5eGKS"
      },
      "execution_count": null,
      "outputs": []
    },
    {
      "cell_type": "markdown",
      "source": [
        "Find first and last digit of a number"
      ],
      "metadata": {
        "id": "UJT8oL-seUoC"
      }
    },
    {
      "cell_type": "code",
      "source": [
        "number = int(input(\"Please Enter any Number: \"))\n",
        "\n",
        "first_digit = number\n",
        "\n",
        "while (first_digit >= 10):\n",
        "    first_digit = first_digit // 10\n",
        "\n",
        "print(\"The First Digit from a Given Number {0} = {1}\".format(number, first_digit))"
      ],
      "metadata": {
        "id": "O9-h3uZpyGEh"
      },
      "execution_count": null,
      "outputs": []
    },
    {
      "cell_type": "markdown",
      "source": [
        "Sum of digits of numbers"
      ],
      "metadata": {
        "id": "alE9MKSZyHJt"
      }
    },
    {
      "cell_type": "code",
      "source": [
        "# Python program to\n",
        "# compute sum of digits in\n",
        "# number.\n",
        "\n",
        "# Function to get sum of digits\n",
        "def getSum(n):\n",
        "\t\n",
        "\tsum = 0\n",
        "\tfor digit in str(n):\n",
        "\tsum += int(digit)\t\n",
        "\treturn sum\n",
        "\n",
        "n = 12345\n",
        "print(getSum(n))\n"
      ],
      "metadata": {
        "id": "ilScNVc5yfsj"
      },
      "execution_count": null,
      "outputs": []
    },
    {
      "cell_type": "markdown",
      "source": [
        "Python program to enter a number and print its reverse"
      ],
      "metadata": {
        "id": "os8n7yZvyg74"
      }
    },
    {
      "cell_type": "code",
      "source": [
        "# given number\n",
        "given_num = 12345\n",
        "\n",
        "# Take a variable reverse_number and initialize it to null\n",
        "reverse_number = 0\n",
        "\n",
        "# using while loop to reverse the given number\n",
        "\n",
        "while (given_num > 0):\n",
        "    # implementing the algorithm\n",
        "    # getting the last digit\n",
        "    remainder = given_num % 10\n",
        "    reverse_number = (reverse_number * 10) + remainder\n",
        "    given_num = given_num // 10\n",
        "\n",
        "# Display the result\n",
        "print(\"The reversed number =\", reverse_number)"
      ],
      "metadata": {
        "id": "h7aRpG53j12y"
      },
      "execution_count": null,
      "outputs": []
    },
    {
      "cell_type": "markdown",
      "source": [
        "Number is palindrome or not</br>\n",
        "Get the number/string to check</br>\n",
        "Keep the number/string in a temporary variable</br>\n",
        "Reverse the number/string</br>\n",
        "Compare temporary number/string with the reversed number/string</br>\n",
        "If the two numbers/strings are the same, display “xxxx is a palindrome”</br>\n",
        "Otherwise, print “xxxx is not a palindrome”</br>"
      ],
      "metadata": {
        "id": "vxRjtGwaljts"
      }
    },
    {
      "cell_type": "markdown",
      "source": [
        "Using math.log() + recursion + list comprehension"
      ],
      "metadata": {
        "id": "bwQtdFlHnRwm"
      }
    },
    {
      "cell_type": "code",
      "source": [
        "# Python3 code to demonstrate\n",
        "# checking a number is palindrome\n",
        "# using math.log() + recursion + list comprehension\n",
        "import math\n",
        "\n",
        "# the recursive function to reverse\n",
        "def rev(num):\n",
        "\treturn int(num != 0) and ((num % 10) * \\\n",
        "\t\t\t(10**int(math.log(num, 10))) + \\\n",
        "\t\t\t\t\t\trev(num // 10))\n",
        "\n",
        "# initializing number\n",
        "test_number = 9669669\n",
        "\n",
        "# printing the original number\n",
        "print (\"The original number is : \" + str(test_number))\n",
        "\n",
        "# using math.log() + recursion + list comprehension\n",
        "# for checking a number is palindrome\n",
        "res = test_number == rev(test_number)\n",
        "\n",
        "# printing result\n",
        "print (\"Is the number palindrome ? : \" + str(res))\n"
      ],
      "metadata": {
        "id": "HMGxT3r-l4bK"
      },
      "execution_count": null,
      "outputs": []
    },
    {
      "cell_type": "markdown",
      "source": [
        "Python program to find frequency of each digit in a given integer."
      ],
      "metadata": {
        "id": "Xc0ETufBm69k"
      }
    },
    {
      "cell_type": "code",
      "source": [
        "number=int(input(\"Enter any Number\"))\n",
        "print(\"Digit\\tFrequency\")\n",
        "for i in range(0,10):\n",
        "    count=0;\n",
        "    temp=number;\n",
        "    while temp>0:\n",
        "        digit=temp%10\n",
        "        if digit==i:\n",
        "            count=count+1\n",
        "        temp=temp//10;\n",
        "    if count>0:\n",
        "        print(i,\"\\t\",count)"
      ],
      "metadata": {
        "id": "WPO1fvQWm7R9"
      },
      "execution_count": null,
      "outputs": []
    },
    {
      "cell_type": "markdown",
      "source": [
        "Print all ASCII characters and their values </br>\n",
        "Declare an integer variable i as loop counter.\n",
        "Run a loop from 0 to 255, increment by 1 in each iteration. The loop structure must look like for(i=0; i<=255; i++).\n",
        "Why iterate from 0 to 255? Because total number of ASCII characters is 256 (non-printable + printable + extended ASCII) and values are in between 0 to 255.\n",
        "\n",
        "Inside the loop print character representation of the given integer.\n",
        "\n"
      ],
      "metadata": {
        "id": "6Tnnza2yoISp"
      }
    },
    {
      "cell_type": "code",
      "source": [
        "#Prints value of ASCII character enetered by the user\n",
        "print(\"Enter a Character: \")\n",
        "ch = input()\n",
        "\n",
        "asc = ord(ch)\n",
        "print(\"\\nASCII Value:\", asc)"
      ],
      "metadata": {
        "id": "UpKbtWSwpimI"
      },
      "execution_count": null,
      "outputs": []
    },
    {
      "cell_type": "markdown",
      "source": [
        "Find factors of all numbers</br>\n",
        "Step 1 – Take input number from user</br>\n",
        "Step 2 – Iterate For Loop over every number from 1 to the given number</br>\n",
        "Step 3 – If the loop iterator evenly divides  the provided number i.e. number % i == 0 print it.</br>\n",
        "Step 4 – Print Result</br>"
      ],
      "metadata": {
        "id": "9quWAnoBqFl_"
      }
    },
    {
      "cell_type": "code",
      "source": [
        "num = int(input(\"Enter a number: \"))\n",
        "\n",
        "print(\"The factors of {} are,\".format(num))\n",
        "\n",
        "for i in range(1,num+1):\n",
        "    if num % i == 0:\n",
        "        print(i)"
      ],
      "metadata": {
        "id": "0mHHHdZsqen0"
      },
      "execution_count": null,
      "outputs": []
    },
    {
      "cell_type": "markdown",
      "source": [
        "Calculate factorial"
      ],
      "metadata": {
        "id": "LF-9WMtHrZKf"
      }
    },
    {
      "cell_type": "code",
      "source": [
        "#using recursion\n",
        "# Python 3 program to find\n",
        "# factorial of given number\n",
        "def factorial(n):\n",
        "\t\n",
        "\t# single line to find factorial\n",
        "\treturn 1 if (n==1 or n==0) else n * factorial(n - 1);\n",
        "\n",
        "# Driver Code\n",
        "num = 5;\n",
        "print(\"Factorial of\",num,\"is\",\n",
        "factorial(num))\n",
        "\n",
        "# This code is contributed by Smitha Dinesh Semwal\n"
      ],
      "metadata": {
        "id": "GEf8FofiroEA"
      },
      "execution_count": null,
      "outputs": []
    },
    {
      "cell_type": "code",
      "source": [
        "#factorial using iterative\n",
        "# Python 3 program to find\n",
        "# factorial of given number\n",
        "def factorial(n):\n",
        "\tif n < 0:\n",
        "\t\treturn 0\n",
        "\telif n == 0 or n == 1:\n",
        "\t\treturn 1\n",
        "\telse:\n",
        "\t\tfact = 1\n",
        "\t\twhile(n > 1):\n",
        "\t\t\tfact *= n\n",
        "\t\t\tn -= 1\n",
        "\t\treturn fact\n",
        "\n",
        "# Driver Code\n",
        "num = 5;\n",
        "print(\"Factorial of\",num,\"is\",\n",
        "factorial(num))\n",
        "\n",
        "# This code is contributed by Dharmik Thakkar\n"
      ],
      "metadata": {
        "id": "mJbIRn6arswd"
      },
      "execution_count": null,
      "outputs": []
    },
    {
      "cell_type": "code",
      "source": [
        "#using ternary operators \n",
        "# Python 3 program to find\n",
        "# factorial of given number\n",
        "\n",
        "def factorial(n):\n",
        "\n",
        "\t# single line to find factorial\n",
        "\treturn 1 if (n==1 or n==0) else n * factorial(n - 1)\n",
        "\n",
        "\n",
        "# Driver Code\n",
        "num = 5\n",
        "print (\"Factorial of\",num,\"is\",\n",
        "\tfactorial(num))\n",
        "\n",
        "# This code is contributed\n",
        "# by Smitha Dinesh Semwal.\n"
      ],
      "metadata": {
        "id": "nBciuUhxsD0F"
      },
      "execution_count": null,
      "outputs": []
    },
    {
      "cell_type": "markdown",
      "source": [
        "Python program to print all Prime numbers between 1 to n, taking input from the user"
      ],
      "metadata": {
        "id": "ADuCDRsXsPy6"
      }
    },
    {
      "cell_type": "code",
      "source": [
        "# Take input from user\n",
        "upto = int(input(\"Find prime numbers upto : \"))\n",
        "\n",
        "print(\"\\nAll prime numbers upto\", upto, \"are : \")\n",
        "\n",
        "for num in range(2, upto + 1):\n",
        "\n",
        "    i = 2\n",
        "\n",
        "    for i in range(2, num):\n",
        "        if(num % i == 0):\n",
        "            i = num\n",
        "            break;\n",
        "\n",
        "    # If the number is prime then print it.\n",
        "    if(i != num):\n",
        "        print(num, end=\" \")"
      ],
      "metadata": {
        "id": "q1n_rlQSsaXB"
      },
      "execution_count": null,
      "outputs": []
    },
    {
      "cell_type": "markdown",
      "source": [
        "**Armstrong number** </br>\n",
        "Read an input number using input() or raw_input().</br>\n",
        "Check whether the value entered is an integer or not.</br>\n",
        "Check input_num is greater than 0.</br>\n",
        "Initialize a variable named arm_num to 0.</br>\n",
        "Find remainder of the input number by using the mod (%) operator to get each digit in the number.</br>\n",
        "Now cube each digit and add it to arm_num.\n",
        "Floor Divide the number by 10.</br>\n",
        "Repeat steps 5. 6. 7 until the input_num is not greater than 0.</br>\n",
        "If input_num is equal to arm_num, print number is ARMSTRONG.</br>\n",
        "When input_num is not equals to arm_num, the number is NOT an Armstrong number.</br>"
      ],
      "metadata": {
        "id": "m0pplI7cthfc"
      }
    },
    {
      "cell_type": "code",
      "source": [
        "\n",
        "input_num = (input(\"Enter any number: \"))\n",
        "digit_len = len(str(input_num))\n",
        "try:\n",
        "    arm_num = 0\n",
        "    val = int(input_num)\n",
        "    while val > 0:\n",
        "        reminder = val % 10\n",
        "        arm_num += reminder ** digit_len\n",
        "        val //= 10\n",
        "if int(input_num) == arm_num:\n",
        "        print(input_num, 'is an ARMSTRONG number')\n",
        "    else:\n",
        "        print(input_num,  'is NOT an armstrong number')\n",
        "except ValueError:\n",
        "    print(\"That's not a valid number, Try Again !\")"
      ],
      "metadata": {
        "id": "VN3JngbqtejI"
      },
      "execution_count": null,
      "outputs": []
    },
    {
      "cell_type": "markdown",
      "source": [
        "Prime number"
      ],
      "metadata": {
        "id": "bKrp1zIYtlSt"
      }
    },
    {
      "cell_type": "code",
      "source": [
        "num = 11\n",
        "# If given number is greater than 1\n",
        "if num > 1:\n",
        "\t# Iterate from 2 to n / 2\n",
        "\tfor i in range(2, int(num/2)+1):\n",
        "\t\t# If num is divisible by any number between\n",
        "\t\t# 2 and n / 2, it is not prime\n",
        "\t\tif (num % i) == 0:\n",
        "\t\t\tprint(num, \"is not a prime number\")\n",
        "\t\t\tbreak\n",
        "\telse:\n",
        "\t\tprint(num, \"is a prime number\")\n",
        "else:\n",
        "\tprint(num, \"is not a prime number\")\n"
      ],
      "metadata": {
        "id": "ruUTtxLpu3oz"
      },
      "execution_count": null,
      "outputs": []
    },
    {
      "cell_type": "code",
      "source": [
        "from math import sqrt\n",
        "# n is the number to be check whether it is prime or not\n",
        "n = 1\n",
        "\n",
        "# this flag maintains status whether the n is prime or not\n",
        "prime_flag = 0\n",
        "\n",
        "if(n > 1):\n",
        "\tfor i in range(2, int(sqrt(n)) + 1):\n",
        "\t\tif (n % i == 0):\n",
        "\t\t\tprime_flag = 1\n",
        "\t\t\tbreak\n",
        "\tif (prime_flag == 0):\n",
        "\t\tprint(\"True\")\n",
        "\telse:\n",
        "\t\tprint(\"False\")\n",
        "else:\n",
        "\tprint(\"False\")\n"
      ],
      "metadata": {
        "id": "O7BI25NPvAVi"
      },
      "execution_count": null,
      "outputs": []
    },
    {
      "cell_type": "markdown",
      "source": [
        "**Magic number:**</br>\n",
        "Take a number as input (num).</br>\n",
        "Calculate the sum of digits of the input number.</br>\n",
        "Repeat step 2 until we get a single digit.</br>\n",
        "If resultant sum is equal to 1 then it is a Magic number else not.</br>\n"
      ],
      "metadata": {
        "id": "FEO6WBWFu4yE"
      }
    },
    {
      "cell_type": "code",
      "source": [
        "import math\n",
        "\n",
        "num = int(input(\"Enter a Number \\n\"))\n",
        "digitCount = int(math.log10(num))+1\n",
        "sumOfDigits = 0\n",
        "\n",
        "temp = num #copying num\n",
        "\n",
        "#calculating sum of digits of temp(i.e num) until\n",
        "#sumOfDigits is a single digit\n",
        "while( digitCount > 1):\n",
        "\n",
        "  sumOfDigits = 0\n",
        "\n",
        "  while(temp > 0):\n",
        "    sumOfDigits += temp%10\n",
        "    temp = temp//10\n",
        "\n",
        "  temp = sumOfDigits\n",
        "  #count the digits of sumOfDigits\n",
        "  digitCount = int(math.log10(sumOfDigits))+1\n",
        "\n",
        "  #check whether sumOfDigits == 1\n",
        "if(sumOfDigits == 1):\n",
        "    print(\"Magic number\")\n",
        "else:\n",
        "    print(\"Not a magic number\")"
      ],
      "metadata": {
        "id": "P7XYEA0YvZav"
      },
      "execution_count": null,
      "outputs": []
    },
    {
      "cell_type": "markdown",
      "source": [
        "Python prpogram to print fibonacci series</br>\n",
        "In this example, I have used the function def fib(n)</br>\n",
        "We have initialized the first term to 0 and the second term to 1.</br>\n",
        "The for loop is used to iterate the values till the given number</br>\n",
        "At last, it will print fibonacci series</br>\n",
        "\n"
      ],
      "metadata": {
        "id": "xui53aQ_xuhx"
      }
    },
    {
      "cell_type": "code",
      "source": [
        "def fib(n):\n",
        "    a = 0\n",
        "    b = 1\n",
        "    if n == 1:\n",
        "        print(a)\n",
        "    else:\n",
        "        print(a)\n",
        "        print(b)\n",
        "        for i in range(2,n):\n",
        "            c = a + b\n",
        "            a = b\n",
        "            b = c\n",
        "            print(c)\n",
        "fib(10)\n",
        "\n",
        "\n",
        "\n"
      ],
      "metadata": {
        "id": "_QO1l8v3yE-M"
      },
      "execution_count": null,
      "outputs": []
    },
    {
      "cell_type": "markdown",
      "source": [
        "Write a Python Program to Find the Largest Number in a List"
      ],
      "metadata": {
        "id": "IA7SH7Y7yUE9"
      }
    },
    {
      "cell_type": "code",
      "source": [
        "# Python program to find largest\n",
        "# number in a list\n",
        "\n",
        "# list of numbers\n",
        "list1 = [10, 20, 4, 45, 99]\n",
        "\n",
        "# sorting the list\n",
        "list1.sort()\n",
        "\n",
        "# printing the last element\n",
        "print(\"Largest element is:\", list1[-1])\n"
      ],
      "metadata": {
        "id": "cqPwYCzCAzWZ"
      },
      "execution_count": null,
      "outputs": []
    },
    {
      "cell_type": "markdown",
      "source": [
        "Python Program to Find the Second Largest Number in a List [Python prog methods](https:/https://www.tutsmake.com/python-program-to-find-second-largest-number-in-list/#:~:text=Use%20the%20following%20steps%20to%20write%20a%20python,list.%205%20Print%20second%20largest%20number%20from%20list/)"
      ],
      "metadata": {
        "id": "mJAJcWojCJEZ"
      }
    },
    {
      "cell_type": "code",
      "source": [
        "# Python program to find second largest\n",
        "# number in a list\n",
        "\n",
        "# list of numbers - length of\n",
        "# list should be at least 2\n",
        "list1 = [10, 20, 4, 45, 99]\n",
        "\n",
        "mx = max(list1[0], list1[1])\n",
        "secondmax = min(list1[0], list1[1])\n",
        "n = len(list1)\n",
        "for i in range(2,n):\n",
        "\tif list1[i] > mx:\n",
        "\t\tsecondmax = mx\n",
        "\t\tmx = list1[i]\n",
        "\telif list1[i] > secondmax and \\\n",
        "\t\tmx != list1[i]:\n",
        "\t\tsecondmax = list1[i]\n",
        "\telif mx == secondmax and \\\n",
        "\t\tsecondmax != list1[i]:\n",
        "\t\tsecondmax = list1[i]\n",
        "\n",
        "print(\"Second highest number is : \",\\\n",
        "\tstr(secondmax))\n"
      ],
      "metadata": {
        "id": "MXXbbiOcCgGB"
      },
      "execution_count": null,
      "outputs": []
    },
    {
      "cell_type": "markdown",
      "source": [
        "Python Program to Put Even and Odd elements in a List into Two Different \n",
        "Lists"
      ],
      "metadata": {
        "id": "lvnJ7HvZDPHc"
      }
    },
    {
      "cell_type": "code",
      "source": [
        "def split_list(my_list):\n",
        "   even_list = []\n",
        "   odd_list = []\n",
        "   for i in my_list:\n",
        "      if (i % 2 == 0):\n",
        "         even_list.append(i)\n",
        "      else:\n",
        "         odd_list.append(i)\n",
        "   print(\"The list of odd numbers are :\", even_list)\n",
        "   print(\"The list of even numbers are :\", odd_list)\n",
        "\n",
        "my_list = [2, 5, 13, 17, 51, 62, 73, 84, 95]\n",
        "print(\"The list is \")\n",
        "print(my_list)\n",
        "split_list(my_list)"
      ],
      "metadata": {
        "id": "MA5SPQubDUc0"
      },
      "execution_count": null,
      "outputs": []
    },
    {
      "cell_type": "markdown",
      "source": [
        "Python Program to Merge Two Lists and Sort it"
      ],
      "metadata": {
        "id": "7efFr4NVEF2A"
      }
    },
    {
      "cell_type": "code",
      "source": [
        "#without using extra space\n",
        "list1=[]  \n",
        "list2=[]  \n",
        "num1=int(input(\"Enter number of elements for first list:\"))  \n",
        "for i in range(1,num1+1):  \n",
        "    b=int(input(\"Enter element:\"))  \n",
        "    list1.append(b)  \n",
        "  \n",
        "num2=int(input(\"Enter number of elements for second list:\"))  \n",
        "for i in range(1,num2+1):  \n",
        "    d=int(input(\"Enter element:\"))  \n",
        "    list2.append(d)  \n",
        "  \n",
        "for i in range(len(list1)-1):  \n",
        "    for j in range(len(list2)- 1):  \n",
        "        if list1[i]>list2[j] and list1[i] < list2 [j+1]:  \n",
        "            list2.insert(j+1, list1[i])  \n",
        "print(\"Sorted list is:\" list2)  \n",
        "Output:\n",
        "\n",
        "Enter number of elements for fi"
      ],
      "metadata": {
        "id": "Ld1NrCfzEVD5"
      },
      "execution_count": null,
      "outputs": []
    },
    {
      "cell_type": "code",
      "source": [
        "list1=[]  \n",
        "list2=[]  \n",
        "num1=int(input(\"Enter number of elements for first list:\"))  \n",
        "for i in range(1,num1+1):  \n",
        "    b=int(input(\"Enter element:\"))  \n",
        "    list1.append(b)  \n",
        "  \n",
        "num2=int(input(\"Enter number of elements for second list:\"))  \n",
        "for i in range(1,num2+1):  \n",
        "    d=int(input(\"Enter element:\"))  \n",
        "    list2.append(d)  \n",
        "  \n",
        "list3=list1+list2  \n",
        "list3.sort()  \n",
        "print(\"Sorted list is:\",list3)  "
      ],
      "metadata": {
        "id": "MceZIg34EH_B"
      },
      "execution_count": null,
      "outputs": []
    },
    {
      "cell_type": "markdown",
      "source": [
        "Python Program to Sort the List According to the Second Element in \n",
        "Sublist\n",
        "</br>\n",
        "1. Take in a list containing sublists.</br>\n",
        "2. Using two for loops, use bubble sort to sort the sublists based on the second value of the sublist.</br>\n",
        "3. If the second element of the first sublist is greater than the second element of the second sublist, exchange the entire sublist.</br>\n",
        "4. Print the sorted list.</br>\n",
        "5. Exit.</br>"
      ],
      "metadata": {
        "id": "5lbBcnNmEfry"
      }
    },
    {
      "cell_type": "code",
      "source": [
        "a=[['A',34],['B',21],['C',26]]\n",
        "for i in range(0,len(a)):\n",
        "    for j in range(0,len(a)-i-1):\n",
        "        if(a[j][1]>a[j+1][1]):\n",
        "            temp=a[j]\n",
        "            a[j]=a[j+1]\n",
        "            a[j+1]=temp\n",
        " \n",
        "print(a)"
      ],
      "metadata": {
        "id": "FaDL0L_B8Oz3"
      },
      "execution_count": null,
      "outputs": []
    },
    {
      "cell_type": "markdown",
      "source": [
        "Python program to find second largest number in a list using Bubble sort </br>\n",
        "1. Take in the number of elements for the list and store it in a variable.</br>\n",
        "2. Take in the elements of the list one by one.</br>\n",
        "3. Then sort the list using bubble sort.</br>\n",
        "4. Print the second last element of the sorted list which is the second-largest number.</br>\n",
        "5. Exit.</br>"
      ],
      "metadata": {
        "id": "5IZ8fgtO83xd"
      }
    },
    {
      "cell_type": "code",
      "source": [
        "a=[]\n",
        "n=int(input(\"Enter number of elements:\"))\n",
        "for i in range(1,n+1):\n",
        "    b=int(input(\"Enter element:\"))\n",
        "    a.append(b)\n",
        "for i in range(0,len(a)):\n",
        "    for j in range(0,len(a)-i-1):\n",
        "        if(a[j]>a[j+1]):\n",
        "            temp=a[j]\n",
        "            a[j]=a[j+1]\n",
        "            a[j+1]=temp \n",
        "print('Second largest number is:',a[n-2])"
      ],
      "metadata": {
        "id": "ddcT9rY09jKE"
      },
      "execution_count": null,
      "outputs": []
    },
    {
      "cell_type": "markdown",
      "source": [
        "Python to sort list according to the lenght of the elements"
      ],
      "metadata": {
        "id": "9HYPoqIA90Wg"
      }
    },
    {
      "cell_type": "code",
      "source": [
        "# Python code to sort a list by creating\n",
        "# another list Use of sorted()\n",
        "def Sorting(lst):\n",
        "\tlst2 = sorted(lst, key=len)\n",
        "\treturn lst2\n",
        "\t\n",
        "# Driver code\n",
        "lst = [\"rohan\", \"amy\", \"sapna\", \"muhammad\",\n",
        "\t\"aakash\", \"raunak\", \"chinmoy\"]\n",
        "print(Sorting(lst))\n"
      ],
      "metadata": {
        "id": "DOo2Kkg0_dEX"
      },
      "execution_count": null,
      "outputs": []
    },
    {
      "cell_type": "markdown",
      "source": [
        "Python Program to Find the Union of two Lists"
      ],
      "metadata": {
        "id": "T8cfz6Tj_irc"
      }
    },
    {
      "cell_type": "code",
      "source": [
        "A=list()\n",
        "B=list()\n",
        "n=int(input(\"Enter the size of the List ::\"))\n",
        "print(\"Enter the Element of first list::\")\n",
        "for i in range(int(n)):\n",
        "   k=int(input(\"\"))\n",
        "   A.append(k)\n",
        "print(\"Enter the Element of second list::\")\n",
        "for i in range(int(n)):\n",
        "   k=int(input(\"\"))\n",
        "   B.append(k)\n",
        "   C = A + B\n",
        "print(\"THE FINAL LIST IS ::>\",C)"
      ],
      "metadata": {
        "id": "MjkET-12AwH5"
      },
      "execution_count": null,
      "outputs": []
    },
    {
      "cell_type": "markdown",
      "source": [
        "Python program to find the intersectiion of two lists"
      ],
      "metadata": {
        "id": "k5yzxKYcA6t9"
      }
    },
    {
      "cell_type": "code",
      "source": [
        "# Python program to illustrate the intersection\n",
        "# of two lists in most simple way\n",
        "def intersection(lst1, lst2):\n",
        "\tlst3 = [value for value in lst1 if value in lst2]\n",
        "\treturn lst3\n",
        "\n",
        "# Driver Code\n",
        "lst1 = [4, 9, 1, 17, 11, 26, 28, 54, 69]\n",
        "lst2 = [9, 9, 74, 21, 45, 11, 63, 28, 26]\n",
        "print(intersection(lst1, lst2))\n"
      ],
      "metadata": {
        "id": "JAqWv4OvBA7o"
      },
      "execution_count": null,
      "outputs": []
    },
    {
      "cell_type": "markdown",
      "source": [
        "Python Program to print all odd indexed elements of a list\n",
        "---"
      ],
      "metadata": {
        "id": "LRRAzcoMBO7_"
      }
    },
    {
      "cell_type": "code",
      "source": [
        "#using for loop\n",
        "# Python program to print odd Numbers in a List\n",
        "\n",
        "# list of numbers\n",
        "list1 = [10, 21, 4, 45, 66, 93]\n",
        "\n",
        "# iterating each number in list\n",
        "for num in list1:\n",
        "\n",
        "\t# checking condition\n",
        "\tif num % 2 != 0:\n",
        "\tprint(num, end=\" \")\n",
        " \n",
        "#using while loop\n",
        "# Python program to print odd Numbers in a List\n",
        "\n",
        "# list of numbers\n",
        "list1 = [10, 21, 4, 45, 66, 93]\n",
        "i = 0\n",
        "\n",
        "# using while loop\n",
        "while(i < len(list1)):\n",
        "\n",
        "\t# checking condition\n",
        "\tif list1[i] % 2 != 0:\n",
        "\t\tprint(list1[i], end=\" \")\n",
        "\n",
        "\t# increment i\n",
        "\ti += 1\n",
        "#using lambda expressions\n",
        "# Python program to print odd numbers in a List\n",
        "\n",
        "# list of numbers\n",
        "list1 = [10, 21, 4, 45, 66, 93, 11]\n",
        "\n",
        "\n",
        "# we can also print odd no's using lambda exp.\n",
        "odd_nos = list(filter(lambda x: (x % 2 != 0), list1))\n",
        "\n",
        "print(\"Odd numbers in the list: \", odd_nos)\n",
        "\n",
        "#using list comphersion\n",
        "# Python program to print odd Numbers in a List\n",
        "\n",
        "# list of numbers\n",
        "list1 = [10, 21, 4, 45, 66, 93]\n",
        "\n",
        "only_odd = [num for num in list1 if num % 2 == 1]\n",
        "\n",
        "print(only_odd)\n",
        "\n",
        "#using pass\n",
        "# Python program to print odd numbers in a List\n",
        "\n",
        "lst = [10, 21, 4, 45, 66, 93, 11]\n",
        "for i in lst:\n",
        "\tif i % 2 == 0:\n",
        "\t\tpass\n",
        "\telse:\n",
        "\t\tprint(i, end=\" \")\n",
        "\n",
        "#using recursion\n",
        "# Python program to print\n",
        "# odd numbers in a list using recursion\n",
        "\n",
        "\n",
        "def oddnumbers(list, n=0):\n",
        "\t# base case\n",
        "\tif n == len(list):\n",
        "\t\texit()\n",
        "\tif list[n] % 2 != 0:\n",
        "\t\tprint(list[n], end=\" \")\n",
        "\t# calling function recursively\n",
        "\toddnumbers(list, n+1)\n",
        "\n",
        "\n",
        "list1 = [10, 21, 4, 45, 66, 93, 11]\n",
        "print(\"odd numbers in the list:\", end=\" \")\n",
        "oddnumbers(list1)\n",
        "\n",
        "#using enumerate function\n",
        "\n",
        "# Python program to print\n",
        "# odd numbers in a list using recursion\n",
        "\n",
        "\n",
        "def oddnumbers(list, n=0):\n",
        "\t# base case\n",
        "\tif n == len(list):\n",
        "\t\texit()\n",
        "\tif list[n] % 2 != 0:\n",
        "\t\tprint(list[n], end=\" \")\n",
        "\t# calling function recursively\n",
        "\toddnumbers(list, n+1)\n",
        "\n",
        "\n",
        "list1 = [10, 21, 4, 45, 66, 93, 11]\n",
        "print(\"odd numbers in the list:\", end=\" \")\n",
        "oddnumbers(list1)\n",
        "#using numpy.array function\n",
        "\n",
        "# Python program to print odd Numbers in a List\n",
        "import numpy as np\n",
        "# list of numbers\n",
        "list1 = np.array([10, 21, 4, 45, 66, 93])\n",
        "\n",
        "\n",
        "only_odd = list1[list1 % 2 == 1]\n",
        "\n",
        "print(only_odd)\n",
        "\n"
      ],
      "metadata": {
        "id": "sbrQfjHKBYae"
      },
      "execution_count": null,
      "outputs": []
    },
    {
      "cell_type": "markdown",
      "source": [
        "Python program to get the 4th element and 4th element from last of a tuple</br>\n",
        "[execute](https:/https://w3resource.com/python-exercises/tuple/python-tuple-exercise-7.php#:~:text=Python%20Code%3A%20%23Get%20an%20item%20of%20the%20tuple,negative%20item1%20%3D%20tuplex%20%5B-4%5D%20print%28item1%29%20Sample%20Output%3A/)"
      ],
      "metadata": {
        "id": "Tf9fPCuADsmU"
      }
    },
    {
      "cell_type": "code",
      "source": [
        "#Get an item of the tuple\n",
        "tuplex = (\"w\", 3, \"r\", \"e\", \"s\", \"o\", \"u\", \"r\", \"c\", \"e\")\n",
        "print(tuplex)\n",
        "#Get item (4th element)of the tuple by index\n",
        "item = tuplex[3]\n",
        "print(item)\n",
        "#Get item (4th element from last)by index negative\n",
        "item1 = tuplex[-4]\n",
        "print(item1)\n"
      ],
      "metadata": {
        "id": "h6DEStYJD5xL"
      },
      "execution_count": null,
      "outputs": []
    },
    {
      "cell_type": "markdown",
      "source": [
        "Python program to find the repeated items of a tuple."
      ],
      "metadata": {
        "id": "JePy7YATERVA"
      }
    },
    {
      "cell_type": "code",
      "source": [
        "#create a tuple\n",
        "tuplex = 2, 4, 5, 6, 2, 3, 4, 4, 7 \n",
        "print(tuplex)\n",
        "#return the number of times it appears in the tuple.\n",
        "count = tuplex.count(4)\n",
        "print(count)\n"
      ],
      "metadata": {
        "id": "Dp76HolgEYVA"
      },
      "execution_count": null,
      "outputs": []
    },
    {
      "cell_type": "markdown",
      "source": [
        "Python program to check whether an element exists within a tuple\n"
      ],
      "metadata": {
        "id": "8t-kEz8dEeAW"
      }
    },
    {
      "cell_type": "code",
      "source": [
        "tuplex = (\"w\", 3, \"r\", \"e\", \"s\", \"o\", \"u\", \"r\", \"c\", \"e\")\n",
        "print(\"r\" in tuplex)\n",
        "print(5 in tuplex)\n"
      ],
      "metadata": {
        "id": "Vf8vI-f-EnXJ"
      },
      "execution_count": null,
      "outputs": []
    },
    {
      "cell_type": "markdown",
      "source": [
        "\n",
        "\n",
        "[unzip tuples ways](https:/https://www.geeksforgeeks.org/python-unzip-a-list-of-tuples//)\n",
        "\n"
      ],
      "metadata": {
        "id": "s65ve_BlEtBe"
      }
    },
    {
      "cell_type": "code",
      "source": [
        "# Python3 code to demonstrate\n",
        "# Unzip a list of tuples\n",
        "# using list comprehension\n",
        "\n",
        "# initializing list of tuples\n",
        "test_list = [('Akshat', 1), ('Bro', 2), ('is', 3), ('Placed', 4)]\n",
        "\n",
        "# Printing original list\n",
        "print(\"Original list is : \" + str(test_list))\n",
        "\n",
        "# using list comprehension to\n",
        "# perform Unzipping\n",
        "res = [[i for i, j in test_list],\n",
        "\t[j for i, j in test_list]]\n",
        "\n",
        "# Printing modified list\n",
        "print(\"Modified list is : \" + str(res))\n"
      ],
      "metadata": {
        "id": "TOK0Q8HhE-yp"
      },
      "execution_count": null,
      "outputs": []
    },
    {
      "cell_type": "markdown",
      "source": [
        "Replace last value of tuples in a list"
      ],
      "metadata": {
        "id": "lcdRRiVZFCKU"
      }
    },
    {
      "cell_type": "code",
      "source": [
        "l = [(10, 20, 40), (40, 50, 60), (70, 80, 90)]\n",
        "print([t[:-1] + (100,) for t in l])\n"
      ],
      "metadata": {
        "id": "AMMfR6V_FTtI"
      },
      "execution_count": null,
      "outputs": []
    },
    {
      "cell_type": "markdown",
      "source": [
        "**Python program to remove an empty tuple(s) from a list of tuples.** </br>\n",
        "Sample data: [(), (), ('',), ('a', 'b'), ('a', 'b', 'c'), ('d')]</br>\n",
        "Expected output: [('',), ('a', 'b'), ('a', 'b', 'c'), 'd']</br>\n",
        "\n",
        "[remove an empty tuples](https:/https://www.bing.com/ck/a?!&&p=2734b0f629a2cd15JmltdHM9MTY2NzYwNjQwMCZpZ3VpZD0wNjE1ZTM0OC1lNmI2LTYwMWYtMGJmYi1mMTYzZTc0MTYxOGQmaW5zaWQ9NTE4NA&ptn=3&hsh=3&fclid=0615e348-e6b6-601f-0bfb-f163e741618d&psq=Python+program+to+remove+an+empty+tuple(s)+from+a+list+of+tuples.++Sample+data%3a+%5b()%2c+()%2c+(%27%27%2c)%2c+(%27a%27%2c+%27b%27)%2c+(%27a%27%2c+%27b%27%2c+%27c%27)%2c+(%27d%27)%5d+Expected+output%3a+%5b(%27%27%2c)%2c+(%27a%27%2c+%27b%27)%2c+(%27a%27%2c+%27b%27%2c+%27c%27)%2c+%27d%27%5d&u=a1aHR0cHM6Ly93d3cuZ2Vla3Nmb3JnZWVrcy5vcmcvcHl0aG9uLXJlbW92ZS1lbXB0eS10dXBsZXMtbGlzdC8&ntb=1/)"
      ],
      "metadata": {
        "id": "TREJZClrFawT"
      }
    },
    {
      "cell_type": "code",
      "source": [
        "# Python program to remove empty tuples from a\n",
        "# list of tuples function to remove empty tuples\n",
        "# using list comprehension\n",
        "def Remove(tuples):\n",
        "\ttuples = [t for t in tuples if t]\n",
        "\treturn tuples\n",
        "\n",
        "# Driver Code\n",
        "tuples = [(), ('ram','15','8'), (), ('laxman', 'sita'),\n",
        "\t\t('krishna', 'akbar', '45'), ('',''),()]\n",
        "print(Remove(tuples))\n"
      ],
      "metadata": {
        "id": "2IwrRmKmFkGu"
      },
      "execution_count": null,
      "outputs": []
    },
    {
      "cell_type": "markdown",
      "source": [
        "**program to convert a list of tuples into a dictionary.**\n",
        "\n",
        "[tuples into dictionary ](https:/https://www.bing.com/ck/a?!&&p=f7831273d4f06b11JmltdHM9MTY2NzYwNjQwMCZpZ3VpZD0wNjE1ZTM0OC1lNmI2LTYwMWYtMGJmYi1mMTYzZTc0MTYxOGQmaW5zaWQ9NTE5MA&ptn=3&hsh=3&fclid=0615e348-e6b6-601f-0bfb-f163e741618d&psq=a+Python+program+to+convert+a+list+of+tuples+into+a+dictionary.&u=a1aHR0cHM6Ly93d3cuZ2Vla3Nmb3JnZWVrcy5vcmcvcHl0aG9uLWNvbnZlcnQtYS1saXN0LW9mLXR1cGxlcy1pbnRvLWRpY3Rpb25hcnkv&ntb=1/)"
      ],
      "metadata": {
        "id": "ELPRVgvAF0rK"
      }
    },
    {
      "cell_type": "code",
      "source": [
        "# Python code to convert into dictionary\n",
        "\n",
        "def Convert(tup, di):\n",
        "\tfor a, b in tup:\n",
        "\t\tdi.setdefault(a, []).append(b)\n",
        "\treturn di\n",
        "\t\n",
        "# Driver Code\t\n",
        "tups = [(\"akash\", 10), (\"gaurav\", 12), (\"anand\", 14),\n",
        "\t(\"suraj\", 20), (\"akhil\", 25), (\"ashish\", 30)]\n",
        "dictionary = {}\n",
        "print (Convert(tups, dictionary))\n"
      ],
      "metadata": {
        "id": "elcrOZK6GGfu"
      },
      "execution_count": null,
      "outputs": []
    },
    {
      "cell_type": "markdown",
      "source": [
        "Python program to find the highest 3 values of corresponding keys in a \n",
        "dictionary.</br>\n",
        "[Higest three values](https:/https://www.bing.com/ck/a?!&&p=a9b232dc3126c554JmltdHM9MTY2NzYwNjQwMCZpZ3VpZD0wNjE1ZTM0OC1lNmI2LTYwMWYtMGJmYi1mMTYzZTc0MTYxOGQmaW5zaWQ9NTE5Mw&ptn=3&hsh=3&fclid=0615e348-e6b6-601f-0bfb-f163e741618d&psq=Python+program+to+find+the+highest+3+values+of+corresponding+keys+in+a++dictionary.&u=a1aHR0cHM6Ly93d3cuZ2Vla3Nmb3JnZWVrcy5vcmcvcHl0aG9uLXByb2dyYW0tdG8tZmluZC10aGUtaGlnaGVzdC0zLXZhbHVlcy1pbi1hLWRpY3Rpb25hcnkv&ntb=1/)"
      ],
      "metadata": {
        "id": "s9qE-TCRGWZB"
      }
    },
    {
      "cell_type": "code",
      "source": [
        "# Python program to demonstrate\n",
        "# finding 3 highest values in a Dictionary\n",
        "\n",
        "from collections import Counter\n",
        "\n",
        "# Initial Dictionary\n",
        "my_dict = {'A': 67, 'B': 23, 'C': 45,\n",
        "\t\t'D': 56, 'E': 12, 'F': 69}\n",
        "\n",
        "k = Counter(my_dict)\n",
        "\n",
        "# Finding 3 highest values\n",
        "high = k.most_common(3)\n",
        "\n",
        "print(\"Initial Dictionary:\")\n",
        "print(my_dict, \"\\n\")\n",
        "\n",
        "\n",
        "print(\"Dictionary with 3 highest values:\")\n",
        "print(\"Keys: Values\")\n",
        "\n",
        "for i in high:\n",
        "\tprint(i[0],\" :\",i[1],\" \")\n"
      ],
      "metadata": {
        "id": "dvq9QGTuGyZj"
      },
      "execution_count": null,
      "outputs": []
    },
    {
      "cell_type": "markdown",
      "source": [
        "Python function that prints out the first n rows of Pascal's triangle.     [pascal triangle](https:/https://www.bing.com/ck/a?!&&p=3c84a28597a8a17bJmltdHM9MTY2NzYwNjQwMCZpZ3VpZD0wNjE1ZTM0OC1lNmI2LTYwMWYtMGJmYi1mMTYzZTc0MTYxOGQmaW5zaWQ9NTE5OA&ptn=3&hsh=3&fclid=0615e348-e6b6-601f-0bfb-f163e741618d&psq=Python+function+that+prints+out+the+first+n+rows+of+Pascal%27s+triangle.&u=a1aHR0cHM6Ly93d3cudzNyZXNvdXJjZS5jb20vcHl0aG9uLWV4ZXJjaXNlcy9weXRob24tZnVuY3Rpb25zLWV4ZXJjaXNlLTEzLnBocA&ntb=1/)\n"
      ],
      "metadata": {
        "id": "aFAzYsOTG90z"
      }
    },
    {
      "cell_type": "code",
      "source": [
        "def pascal_triangle(n):\n",
        "   trow = [1]\n",
        "   y = [0]\n",
        "   for x in range(max(n,0)):\n",
        "      print(trow)\n",
        "      trow=[l+r for l,r in zip(trow+y, y+trow)]\n",
        "   return n>=1\n",
        "pascal_triangle(6) \n"
      ],
      "metadata": {
        "id": "yACfL181HLDY"
      },
      "execution_count": null,
      "outputs": []
    },
    {
      "cell_type": "markdown",
      "source": [
        "Values are squares of numbers between two 1-30 included"
      ],
      "metadata": {
        "id": "G411b-JjHjCi"
      }
    },
    {
      "cell_type": "code",
      "source": [
        "def printValues():\n",
        "\tl = list()\n",
        "\tfor i in range(1,21):\n",
        "\t\tl.append(i**2)\n",
        "\tprint(l)\n",
        "\t\t\n",
        "printValues()\n"
      ],
      "metadata": {
        "id": "IGby3nIFH-cO"
      },
      "execution_count": null,
      "outputs": []
    },
    {
      "cell_type": "markdown",
      "source": [
        "Detect the number of local variable declared in a function </br>\n",
        "[local variables](https:/https://www.geeksforgeeks.org/python-program-to-find-number-of-local-variables-in-a-function/#:~:text=Given%20a%20Python%20program%2C%20task%20is%20to%20find,by%20the%20function%20to%20get%20the%20desired%20result./)"
      ],
      "metadata": {
        "id": "FMqb91i3IJwE"
      }
    },
    {
      "cell_type": "code",
      "source": [
        "# Implementation of above approach\n",
        "\n",
        "# A function containing 3 variables\n",
        "def fun():\n",
        "\ta = 1\n",
        "\tstr = 'GeeksForGeeks'\n",
        "\n",
        "\n",
        "# Driver program\n",
        "print(fun.__code__.co_nlocals)\n"
      ],
      "metadata": {
        "id": "JIRzkK54pmoM"
      },
      "execution_count": null,
      "outputs": []
    },
    {
      "cell_type": "markdown",
      "source": [
        "Invoke a given after specific milliseconds"
      ],
      "metadata": {
        "id": "fkJl8L0_qzli"
      }
    },
    {
      "cell_type": "code",
      "source": [
        "from time import sleep\n",
        "import math\n",
        "def delay(fn, ms, *args):\n",
        "  sleep(ms / 1000)\n",
        "  return fn(*args)\n",
        "print(\"Square root after specific miliseconds:\") \n",
        "print(delay(lambda x: math.sqrt(x), 100, 16))\n",
        "print(delay(lambda x: math.sqrt(x), 1000, 100))\n",
        "print(delay(lambda x: math.sqrt(x), 2000, 25100))\n"
      ],
      "metadata": {
        "id": "MNwA5I2Nq2to"
      },
      "execution_count": null,
      "outputs": []
    },
    {
      "cell_type": "markdown",
      "source": [
        "Python program to get the sum of non-negative integer</br>\n",
        "[Sum of non-negative integer](https:/https://www.w3resource.com/python-exercises/data-structures-and-algorithms/python-recursion-exercise-6.php#:~:text=Write%20a%20Python%20program%20to%20get%20the%20sum,%2F%2010%29%29%20print%20%28sumDigits%20%28345%29%29%20print%20%28sumDigits%20%2845%29%29/)"
      ],
      "metadata": {
        "id": "gUP-BXo-q3va"
      }
    },
    {
      "cell_type": "code",
      "source": [
        "def sumDigits(n):\n",
        "  if n == 0:\n",
        "    return 0\n",
        "  else:\n",
        "    return n % 10 + sumDigits(int(n / 10))\n",
        "\n",
        "print(sumDigits(345))\n",
        "print(sumDigits(45))\n"
      ],
      "metadata": {
        "id": "IUlx9idfrNIA"
      },
      "execution_count": null,
      "outputs": []
    },
    {
      "cell_type": "markdown",
      "source": [
        "to calculate teh ahrmonic sum n-1\n",
        "[harmonic sum](https:/https://www.w3resource.com/python-exercises/data-structures-and-algorithms/python-recursion-exercise-8.php/)"
      ],
      "metadata": {
        "id": "G7SjUcgqrYr8"
      }
    },
    {
      "cell_type": "code",
      "source": [
        "def harmonic_sum(n):\n",
        "  if n < 2:\n",
        "    return 1\n",
        "  else:\n",
        "    return 1 / n + (harmonic_sum(n - 1))\n",
        "    \n",
        "print(harmonic_sum(7))\n",
        "print(harmonic_sum(4))\n"
      ],
      "metadata": {
        "id": "MNgf5Qaxrll0"
      },
      "execution_count": null,
      "outputs": []
    },
    {
      "cell_type": "markdown",
      "source": [
        "a Python program to calculate the sum of the positive integers of n+(n-2)+(n-4)... \n",
        "(until n-x =< 0)</br>\n",
        "[sum of positive integers](https:/https://computerscience11to12.blogspot.com/2020/06/write-python-program-to-calculate-sum_29.html/)"
      ],
      "metadata": {
        "id": "lo_naqZ5rt9x"
      }
    },
    {
      "cell_type": "code",
      "source": [
        "def sum_series(n):\n",
        "  if n < 1:\n",
        "    return 0\n",
        "  else:\n",
        "    return n + sum_series(n - 2)\n",
        "\n",
        "print(sum_series(6))\n",
        "print(sum_series(10))"
      ],
      "metadata": {
        "id": "SjLpSTgHtjAc"
      },
      "execution_count": null,
      "outputs": []
    },
    {
      "cell_type": "markdown",
      "source": [
        " Python program to find the greatest common divisor (gcd) of two integers using \n",
        "Recursion \n",
        "</br>\n",
        "[gcd of two numbers](https:/https://www.geeksforgeeks.org/python-program-to-find-the-gcd-of-two-numbers//)"
      ],
      "metadata": {
        "id": "aT7DBMu9tydt"
      }
    },
    {
      "cell_type": "code",
      "source": [
        "# Python code to demonstrate the working of gcd()\n",
        "# importing \"math\" for mathematical operations\n",
        "import math\n",
        "\n",
        "# prints 12\n",
        "print(\"The gcd of 60 and 48 is : \", end=\"\")\n",
        "print(math.gcd(60, 48))\n"
      ],
      "metadata": {
        "id": "mavMlI78t3lB"
      },
      "execution_count": null,
      "outputs": []
    },
    {
      "cell_type": "markdown",
      "source": [
        "Implement any sorting algorithm using Recursion.\n",
        "</br>\n",
        "[sorting using recursion](https:/https://www.geeksforgeeks.org/sort-a-stack-using-recursion//)"
      ],
      "metadata": {
        "id": "4MRw6n4DuLDD"
      }
    },
    {
      "cell_type": "code",
      "source": [
        "# Python program to sort a stack using recursion\n",
        "\n",
        "# Recursive method to insert element in sorted way\n",
        "\n",
        "\n",
        "def sortedInsert(s, element):\n",
        "\n",
        "\t# Base case: Either stack is empty or newly inserted\n",
        "\t# item is greater than top (more than all existing)\n",
        "\tif len(s) == 0 or element > s[-1]:\n",
        "\t\ts.append(element)\n",
        "\t\treturn\n",
        "\telse:\n",
        "\n",
        "\t\t# Remove the top item and recur\n",
        "\t\ttemp = s.pop()\n",
        "\t\tsortedInsert(s, element)\n",
        "\n",
        "\t\t# Put back the top item removed earlier\n",
        "\t\ts.append(temp)\n",
        "\n",
        "# Method to sort stack\n",
        "\n",
        "\n",
        "def sortStack(s):\n",
        "\n",
        "\t# If stack is not empty\n",
        "\tif len(s) != 0:\n",
        "\n",
        "\t\t# Remove the top item\n",
        "\t\ttemp = s.pop()\n",
        "\n",
        "\t\t# Sort remaining stack\n",
        "\t\tsortStack(s)\n",
        "\n",
        "\t\t# Push the top item back in sorted stack\n",
        "\t\tsortedInsert(s, temp)\n",
        "\n",
        "# Printing contents of stack\n",
        "\n",
        "\n",
        "def printStack(s):\n",
        "\tfor i in s[::-1]:\n",
        "\t\tprint(i, end=\" \")\n",
        "\tprint()\n",
        "\n",
        "\n",
        "# Driver Code\n",
        "if __name__ == '__main__':\n",
        "\ts = []\n",
        "\ts.append(30)\n",
        "\ts.append(-5)\n",
        "\ts.append(18)\n",
        "\ts.append(14)\n",
        "\ts.append(-3)\n",
        "\n",
        "\tprint(\"Stack elements before sorting: \")\n",
        "\tprintStack(s)\n",
        "\n",
        "\tsortStack(s)\n",
        "\n",
        "\tprint(\"\\nStack elements after sorting: \")\n",
        "\tprintStack(s)\n",
        "\n",
        "# This code is contributed by Muskan Kalra.\n"
      ],
      "metadata": {
        "id": "2O3p5rasuOUF"
      },
      "execution_count": null,
      "outputs": []
    },
    {
      "cell_type": "markdown",
      "source": [
        "Python Program to Replace all Occurrences of ‘a’ with ‘b’ in a String. If \n",
        "‘a’ is not present then print appropriate message\n",
        "[replace all occurences](https:/https://www.geeksforgeeks.org/python-program-to-replace-all-occurrences-of-a-with-in-a-string//)"
      ],
      "metadata": {
        "id": "jnFKHWvVu1_7"
      }
    },
    {
      "cell_type": "code",
      "source": [
        "# declaring a string variable\n",
        "str = \"Amdani athani kharcha rupaiya.\"\n",
        "\n",
        "# declaring an empty string variable for storing modified string\n",
        "modified_str = ''\n",
        "\n",
        "# iterating over the string\n",
        "for char in range(0, len(str)):\n",
        "\t# checking if the character at char index is equivalent to 'a'\n",
        "\tif(str[char] == 'a'):\n",
        "\t\t# append $ to modified string\n",
        "\t\tmodified_str += '$'\n",
        "\telse:\n",
        "\t\t# append original string character\n",
        "\t\tmodified_str += str[char]\n",
        "\n",
        "print(\"Modified string : \")\n",
        "print(modified_str)\n"
      ],
      "metadata": {
        "id": "KrG4s1PDvCnq"
      },
      "execution_count": null,
      "outputs": []
    },
    {
      "cell_type": "markdown",
      "source": [
        "Python Program to Remove the nth Index Character from a Non-Empty \n",
        "String </br>\n",
        "[remove nth index character](https:/https://www.geeksforgeeks.org/python-program-to-remove-the-nth-index-character-from-a-non-empty-string//)"
      ],
      "metadata": {
        "id": "TyKjovTtvTG-"
      }
    },
    {
      "cell_type": "code",
      "source": [
        "# declaring a string variable\n",
        "str = \"Geeksforgeeks is fun.\"\n",
        "\n",
        "# index to remove character at\n",
        "n = 4\n",
        "\n",
        "# declaring an empty string variable for storing modified string\n",
        "modified_str = ''\n",
        "\n",
        "# iterating over the string\n",
        "for char in range(0, len(str)):\n",
        "\n",
        "\t# checking if the char index is equivalent to n\n",
        "\tif(char != n):\n",
        "\t\t# append original string character\n",
        "\t\tmodified_str += str[char]\n",
        "\n",
        "print(\"Modified string after removing \", n, \"th character \")\n",
        "print(modified_str)\n"
      ],
      "metadata": {
        "id": "GA_6MrSZwsjt"
      },
      "execution_count": null,
      "outputs": []
    },
    {
      "cell_type": "markdown",
      "source": [
        "Check if two programs are anagrams</br>\n",
        "[anagrams](https:/https://www.geeksforgeeks.org/python-sorted-check-two-strings-anagram-not//)"
      ],
      "metadata": {
        "id": "hLcnhngew4AE"
      }
    },
    {
      "cell_type": "code",
      "source": [
        "# function to check if two strings are\n",
        "# anagram or not\n",
        "def check(s1, s2):\n",
        "\t\n",
        "\t# the sorted strings are checked\n",
        "\tif(sorted(s1)== sorted(s2)):\n",
        "\t\tprint(\"The strings are anagrams.\")\n",
        "\telse:\n",
        "\t\tprint(\"The strings aren't anagrams.\")\t\t\n",
        "\t\t\n",
        "# driver code\n",
        "s1 =\"listen\"\n",
        "s2 =\"silent\"\n",
        "check(s1, s2)\n"
      ],
      "metadata": {
        "id": "VyuRNRucxMhJ"
      },
      "execution_count": null,
      "outputs": []
    },
    {
      "cell_type": "markdown",
      "source": [
        "a Python Program to Form a New String where the First Character and the \n",
        "Last Character have been Exchanged.</br>\n",
        "\n",
        "1. Take a string from the user and store it in a variable.</br>\n",
        "2. Pass the string as an argument to a function.</br>\n",
        "3. In the function, split the string.</br>\n",
        "4. Then add the last character to the middle part of the string which is in turn added to the first character.</br>\n",
        "5. Print the modified string.</br>\n",
        "6. Exit.</br>"
      ],
      "metadata": {
        "id": "7XcfFKfhxQSa"
      }
    },
    {
      "cell_type": "code",
      "source": [
        "def change(string):\n",
        "      return string[-1:] + string[1:-1] + string[:1]\n",
        "string=raw_input(\"Enter string:\")\n",
        "print(\"Modified string:\")\n",
        "print(change(string))"
      ],
      "metadata": {
        "id": "yr9DHRo31R-L"
      },
      "execution_count": null,
      "outputs": []
    },
    {
      "cell_type": "markdown",
      "source": [
        "a Python program to get the last part of a string before a specified character</br>\n",
        "[last part of a string before a specified character](https:/https://theprogrammingexpert.com/python-last-character-in-string/#:~:text=To%20get%20the%20last%20character%20in%20a%20string,and%20get%20only%20specific%20values%20from%20your%20list./)\n",
        "\n",
        "</br>\n",
        "\n",
        "[last part of a string before a specified character](https:/https://w3resource.com/python-exercises/string/python-data-type-string-exercise-19.php/)"
      ],
      "metadata": {
        "id": "aoVkZtbD1Yud"
      }
    },
    {
      "cell_type": "code",
      "source": [
        "str1 = 'https://www.w3resource.com/python-exercises/string'\n",
        "print(str1.rsplit('/', 1)[0])\n",
        "print(str1.rsplit('-', 1)[0])\n"
      ],
      "metadata": {
        "id": "KhtQv2qN18GJ"
      },
      "execution_count": null,
      "outputs": []
    },
    {
      "cell_type": "markdown",
      "source": [
        "[occurrences of each word in a given sentence](https:/https://www.w3resource.com/python-exercises/string/python-data-type-string-exercise-12.php#:~:text=Write%20a%20Python%20program%20to%20count%20the%20occurrences,fox%20jumps%20over%20the%20lazy%20dog.%27%29%29%20Sample%20Output%3A/)\n",
        "\n",
        "To count the occurrences of each word in a given sentence"
      ],
      "metadata": {
        "id": "Tb_nq70e2XbK"
      }
    },
    {
      "cell_type": "code",
      "source": [
        "def word_count(str):\n",
        "    counts = dict()\n",
        "    words = str.split()\n",
        "\n",
        "    for word in words:\n",
        "        if word in counts:\n",
        "            counts[word] += 1\n",
        "        else:\n",
        "            counts[word] = 1\n",
        "\n",
        "    return counts\n",
        "\n",
        "print( word_count('the quick brown fox jumps over the lazy dog.'))\n"
      ],
      "metadata": {
        "id": "-oh-Hunv2yq0"
      },
      "execution_count": null,
      "outputs": []
    },
    {
      "cell_type": "markdown",
      "source": [
        "Python function to insert a string in the middle of a string. </br>\n",
        "[string made of first three characters](https:/https://www.w3resource.com/python-exercises/string/python-data-type-string-exercise-16.php/)\n"
      ],
      "metadata": {
        "id": "ztyHoCwa211c"
      }
    },
    {
      "cell_type": "code",
      "source": [
        "def insert_sting_middle(str, word):\n",
        "\treturn str[:2] + word + str[2:]\n",
        "\n",
        "print(insert_sting_middle('[[]]', 'Python'))\n",
        "print(insert_sting_middle('{{}}', 'PHP'))\n",
        "print(insert_sting_middle('<<>>', 'HTML'))\n"
      ],
      "metadata": {
        "id": "WTUdANK46us2"
      },
      "execution_count": null,
      "outputs": []
    },
    {
      "cell_type": "markdown",
      "source": [
        "Python program to add a prefix text to all of the lines in a string"
      ],
      "metadata": {
        "id": "-E5Phi1p6vrR"
      }
    },
    {
      "cell_type": "code",
      "source": [
        "import textwrap\n",
        "sample_text ='''\n",
        "    Python is a widely used high-level, general-purpose, interpreted,\n",
        "    dynamic programming language. Its design philosophy emphasizes\n",
        "    code readability, and its syntax allows programmers to express\n",
        "    concepts in fewer lines of code than possible in languages such\n",
        "    as C++ or Java.\n",
        "    '''\n",
        "text_without_Indentation = textwrap.dedent(sample_text)\n",
        "wrapped = textwrap.fill(text_without_Indentation, width=50)\n",
        "#wrapped += '\\n\\nSecond paragraph after a blank line.'\n",
        "final_result = textwrap.indent(wrapped, '> ')\n",
        "print()\n",
        "print(final_result)\n",
        "print()\n"
      ],
      "metadata": {
        "id": "sNN7UiDo7RjO"
      },
      "execution_count": null,
      "outputs": []
    },
    {
      "cell_type": "markdown",
      "source": [
        "String to list of words</br>\n",
        "[string to list](https:/https://w3resource.com/python-exercises/string/python-data-type-string-exercise-28.php/)"
      ],
      "metadata": {
        "id": "kLGbxXX07VL5"
      }
    },
    {
      "cell_type": "code",
      "source": [
        "# Python code to convert string to list\n",
        "\n",
        "\n",
        "def Convert(string):\n",
        "\tli = list(string.split(\" \"))\n",
        "\treturn li\n",
        "\n",
        "\n",
        "# Driver code\n",
        "str1 = \"Geeks for Geeks\"\n",
        "print(Convert(str1))\n"
      ],
      "metadata": {
        "id": "v9WlVVDc7gTA"
      },
      "execution_count": null,
      "outputs": []
    },
    {
      "cell_type": "markdown",
      "source": [
        "[remove duplicate char from strings](https:/https://python-programs.com/python-program-to-remove-adjacent-duplicate-characters-from-a-string/#:~:text=How%20to%20Remove%20Adjacent%20Duplicate%20Characters%20from%20a,2%29Using%20For%20loop%20and%20If%20statements%20%28User%20Input%29/)\n",
        "</br>\n",
        "[duplicate char from string](https:/https://www.bing.com/ck/a?!&&p=8b7aa6bfc82838a0JmltdHM9MTY2NzYwNjQwMCZpZ3VpZD0wNjE1ZTM0OC1lNmI2LTYwMWYtMGJmYi1mMTYzZTc0MTYxOGQmaW5zaWQ9NTE5Ng&ptn=3&hsh=3&fclid=0615e348-e6b6-601f-0bfb-f163e741618d&psq=Remove+Duplicate+Char+from+String+python&u=a1aHR0cHM6Ly93d3cuZ2Vla3Nmb3JnZWVrcy5vcmcvcHl0aG9uLXByb2dyYW0tdG8tcmVtb3ZlLWR1cGxpY2F0ZXMtZnJvbS1hLWdpdmVuLXN0cmluZy8&ntb=1/)"
      ],
      "metadata": {
        "id": "z3-kblOa7rf4"
      }
    },
    {
      "cell_type": "code",
      "source": [
        "string=\"geeksforgeeks\"\n",
        "k2=[]\n",
        "for ele in k:\n",
        "\tif ele not in k2:\n",
        "\t\tk2.append(ele)\n",
        "for i in range(0,len(k2)):\n",
        "\tprint(k2[i],end=\"\")\n"
      ],
      "metadata": {
        "id": "1dBx5aR88TS1"
      },
      "execution_count": null,
      "outputs": []
    },
    {
      "cell_type": "markdown",
      "source": [
        "Hailstone Sequence</br>\n",
        "[hailstone](https:/https://www.pythonpool.com/hailstone-sequence-python//)</br>\n",
        "\n",
        "[hailstone-sequence](https:/https://www.csestack.org/hailstone-sequence-python-recursion//)"
      ],
      "metadata": {
        "id": "iyEa4VWv8sPr"
      }
    },
    {
      "cell_type": "code",
      "source": [
        "def hailstone_seq(start):\n",
        "  list_out = []\n",
        "  while start > 1:\n",
        "    list_out.append(int(start))\n",
        "    if start%2 == 1:\n",
        "      start = int(start*3+1)\n",
        "    else:\n",
        "      start = int(start/2)\n",
        "  list_out.append(1)\n",
        "  return list_out\n",
        " \n",
        "if __name__ == \"__main__\":\n",
        "  n = input(\"Enter the number:\")\n",
        "  if n.isnumeric():\n",
        "    n = int(n)\n",
        "    list_out = hailstone_seq(n)\n",
        "    print(\"Hailstone Sequence: \", list_out)\n",
        "  else:\n",
        "    print(\"Invalid input.\")"
      ],
      "metadata": {
        "id": "AkWjASoJ9HX4"
      },
      "execution_count": null,
      "outputs": []
    },
    {
      "cell_type": "markdown",
      "source": [
        "encrypt and decrypt using python</br>\n",
        "[decrypt](https:/https://www.geeksforgeeks.org/encrypt-and-decrypt-files-using-python//)\n"
      ],
      "metadata": {
        "id": "BDz0zv6a9geR"
      }
    },
    {
      "cell_type": "code",
      "source": [],
      "metadata": {
        "id": "6QOOGkI1-26U"
      },
      "execution_count": null,
      "outputs": []
    },
    {
      "cell_type": "markdown",
      "source": [
        "[special element in matrix](https:/https://www.geeksforgeeks.org/python-search-elements-in-a-matrix//)"
      ],
      "metadata": {
        "id": "luCRpegU9_5M"
      }
    },
    {
      "cell_type": "code",
      "source": [
        "# Python3 code to demonstrate\n",
        "# Search in Matrix\n",
        "# using any() + list comprehension\n",
        "\n",
        "# initializing list\n",
        "test_list = [[4, 5, 6],\n",
        "\t\t\t[10, 2, 13],\n",
        "\t\t\t[1, 11, 18]]\n",
        "\n",
        "# printing original list\n",
        "print(\"The original list : \" + str(test_list))\n",
        "\n",
        "# using any() + list comprehension\n",
        "# to Search in Matrix\n",
        "res = any(13 in sub for sub in test_list)\n",
        "\n",
        "# printing result\n",
        "print(\"Is 13 present in Matrix ? : \" + str(res))\n"
      ],
      "metadata": {
        "id": "kSY3-X8q-Gu3"
      },
      "execution_count": null,
      "outputs": []
    },
    {
      "cell_type": "markdown",
      "source": [
        "Next Greater No with the Same set of Digits</br>\n",
        "[same sets of digits](https:/https://www.geeksforgeeks.org/find-next-greater-number-set-digits//)"
      ],
      "metadata": {
        "id": "Uuovcgl6_Jly"
      }
    },
    {
      "cell_type": "code",
      "source": [
        "# Python program to find the smallest number which\n",
        "# is greater than a given no. has same set of\n",
        "# digits as given number\n",
        "\n",
        "# Given number as int array, this function finds the\n",
        "# greatest number and returns the number as integer\n",
        "def findNext(number,n):\n",
        "\t\n",
        "\t# Start from the right most digit and find the first\n",
        "\t# digit that is smaller than the digit next to it\n",
        "\tfor i in range(n-1,0,-1):\n",
        "\t\tif number[i] > number[i-1]:\n",
        "\t\t\tbreak\n",
        "\t\t\t\n",
        "\t# If no such digit found,then all numbers are in\n",
        "\t# descending order, no greater number is possible\n",
        "\tif i == 1 and number[i] <= number[i-1]:\n",
        "\t\tprint (\"Next number not possible\")\n",
        "\t\treturn\n",
        "\t\t\n",
        "\t# Find the smallest digit on the right side of\n",
        "\t# (i-1)'th digit that is greater than number[i-1]\n",
        "\tx = number[i-1]\n",
        "\tsmallest = i\n",
        "\tfor j in range(i+1,n):\n",
        "\t\tif number[j] > x and number[j] < number[smallest]:\n",
        "\t\t\tsmallest = j\n",
        "\t\t\n",
        "\t# Swapping the above found smallest digit with (i-1)'th\n",
        "\tnumber[smallest],number[i-1] = number[i-1], number[smallest]\n",
        "\t\n",
        "\t# X is the final number, in integer datatype\n",
        "\tx = 0\n",
        "\t# Converting list upto i-1 into number\n",
        "\tfor j in range(i):\n",
        "\t\tx = x * 10 + number[j]\n",
        "\t\n",
        "\t# Sort the digits after i-1 in ascending order\n",
        "\tnumber = sorted(number[i:])\n",
        "\t# converting the remaining sorted digits into number\n",
        "\tfor j in range(n-i):\n",
        "\t\tx = x * 10 + number[j]\n",
        "\t\n",
        "\tprint (\"Next number with set of digits is\",x)\n",
        "\n",
        "\n",
        "# Driver Program to test above function\n",
        "digits = \"534976\"\t\t\n",
        "\n",
        "# converting into integer array,\n",
        "# number becomes [5,3,4,9,7,6]\n",
        "number = list(map(int ,digits))\n",
        "findNext(number, len(digits))\n",
        "\n",
        "# This code is contributed by Harshit Agrawal\n"
      ],
      "metadata": {
        "id": "_DRKzRRC_Vaw"
      },
      "execution_count": null,
      "outputs": []
    },
    {
      "cell_type": "markdown",
      "source": [
        "Smallest subarrays with sum greater than given number\n",
        "</br>\n",
        "[smallest subarrays with greater than given number](https:/https://www.bing.com/ck/a?!&&p=0fe2da59531a616aJmltdHM9MTY2NzYwNjQwMCZpZ3VpZD0wNjE1ZTM0OC1lNmI2LTYwMWYtMGJmYi1mMTYzZTc0MTYxOGQmaW5zaWQ9NTE4OQ&ptn=3&hsh=3&fclid=0615e348-e6b6-601f-0bfb-f163e741618d&psq=Smallest+Subarray+with+Sum+Greater+than+Given+Number&u=a1aHR0cHM6Ly93d3cuZ2Vla3Nmb3JnZWVrcy5vcmcvbWluaW11bS1sZW5ndGgtc3ViYXJyYXktc3VtLWdyZWF0ZXItZ2l2ZW4tdmFsdWUv&ntb=1/)"
      ],
      "metadata": {
        "id": "iAxRc-ud_juV"
      }
    },
    {
      "cell_type": "code",
      "source": [
        "import sys\n",
        " \n",
        " \n",
        "# Function to find the length of the smallest sublist whose sum\n",
        "# of elements is greater than the given number\n",
        "def findSmallestSublistLen(A, k):\n",
        " \n",
        "    # stores the current window sum\n",
        "    windowSum = 0\n",
        " \n",
        "    # stores the result\n",
        "    length = sys.maxsize\n",
        " \n",
        "    # stores the window's starting index\n",
        "    left = 0\n",
        " \n",
        "    # maintain a sliding window `[left…right]`\n",
        "    for right in range(len(A)):\n",
        " \n",
        "        # include the current element in the window\n",
        "        windowSum += A[right]\n",
        " \n",
        "        # the window becomes unstable if its sum becomes more than `k`\n",
        "        while windowSum > k and left <= right:\n",
        " # update the result if the current window's length is less than the\n",
        "            # minimum found so far\n",
        "            length = min(length, right - left + 1)\n",
        " \n",
        "            # remove elements from the window's left side till the window\n",
        "            # becomes stable again\n",
        "            windowSum -= A[left]\n",
        "            left = left + 1\n",
        " \n",
        "    # invalid input\n",
        "    if length == sys.maxsize:\n",
        "        return 0\n",
        " \n",
        "    # return result\n",
        "    return length\n",
        " \n",
        " \n",
        "if __name__ == '__main__':\n",
        " \n",
        "    # a list of positive numbers\n",
        "    A = [1, 2, 3, 4, 5, 6, 7, 8]\n",
        "    k = 21\n",
        " \n",
        "    # find the length of the smallest sublist\n",
        "    length = findSmallestSublistLen(A, k)\n",
        " \n",
        "    if length != sys.maxsize:\n",
        "        print(\"The smallest sublist length is\", length)\n",
        "    else:\n",
        "        print(\"No sublist exists\")\n",
        " "
      ],
      "metadata": {
        "id": "iOgaNCQn_VzY"
      },
      "execution_count": null,
      "outputs": []
    },
    {
      "cell_type": "markdown",
      "source": [
        "Group Anagrams</br>\n",
        "[anagrams](https:/https://studyalgorithms.com/string/leetcode-group-anagrams-solution/#:~:text=1%20Iterate%20over%20each%20string%20in%20the%20input,Else%2C%20move%20the%20string%20to%20a%20different%20group./)"
      ],
      "metadata": {
        "id": "5LvXGNvHATCe"
      }
    },
    {
      "cell_type": "code",
      "source": [
        "public List<List<String>> groupAnagramsCategorizeByFrequency(String[] strs) {\n",
        "\n",
        "    // Check for empty inputs\n",
        "    if (strs == null || strs.length == 0)\n",
        "      return new ArrayList<>();\n",
        "\n",
        "    Map<String, List<String>> frequencyStringsMap = new HashMap<>();\n",
        "    for (String str : strs) {\n",
        "\n",
        "      String frequencyString = getFrequencyString(str);\n",
        "\n",
        "      // If the frequency string is present, add the string to the list\n",
        "      if (frequencyStringsMap.containsKey(frequencyString)) {\n",
        "        frequencyStringsMap.get(frequencyString).add(str);\n",
        "      }\n",
        "      else {\n",
        "        // else create a new list\n",
        "        List<String> strList = new ArrayList<>();\n",
        "        strList.add(str);\n",
        "        frequencyStringsMap.put(frequencyString, strList);\n",
        "      }\n",
        "    }\n",
        "\n",
        "    return new ArrayList<>(frequencyStringsMap.values());\n",
        "  }\n",
        "\n",
        "  private String getFrequencyString(String str) {\n",
        "      // Frequency buckets\n",
        "    int[] freq = new int[26];\n",
        "\n",
        "    // Iterate over each character\n",
        "    for (char c : str.toCharArray()) {\n",
        "      freq++;\n",
        "    }\n",
        "\n",
        "    // Start creating the frequency string\n",
        "    StringBuilder frequencyString = new StringBuilder(\"\");\n",
        "    char c = 'a';\n",
        "    for (int i : freq) {\n",
        "      frequencyString.append(c);\n",
        "      frequencyString.append(i);\n",
        "      c++;\n",
        "    }\n",
        "\n",
        "    return frequencyString.toString();\n",
        "  }"
      ],
      "metadata": {
        "id": "JZY5-ohvAXlO"
      },
      "execution_count": null,
      "outputs": []
    },
    {
      "cell_type": "markdown",
      "source": [
        "[find duplicates in arrays O(n)](https:/https://www.csestack.org/find-duplicates-in-array/#:~:text=Algorithm%3A%201%20Take%20the%20hash%20table%20of%20size,hashIndex%20%5Bi%5D%3D1%20if%20hashIndex%20%5Bi%5D%3D%3D1%2C%20element%20is%20duplicate./)"
      ],
      "metadata": {
        "id": "WHH-nN36BcQ5"
      }
    },
    {
      "cell_type": "code",
      "source": [],
      "metadata": {
        "id": "4jEF_xE6Bqzx"
      },
      "execution_count": null,
      "outputs": []
    },
    {
      "cell_type": "markdown",
      "source": [
        "Find two unique numbers from array in O(n)</br>\n",
        "[unique numbers from array](https:/https://www.geeksforgeeks.org/number-of-unique-pairs-in-an-array//)"
      ],
      "metadata": {
        "id": "UlPFY64tCEv0"
      }
    },
    {
      "cell_type": "code",
      "source": [
        "# Python3 implementation of the approach\n",
        "\n",
        "# Function to return the number\n",
        "# of unique pairs in the array\n",
        "def countUnique(arr, n):\n",
        "\t# Set to store unique pairs\n",
        "\ts = set()\n",
        "\n",
        "\t# Make all possible pairs\n",
        "\tfor i in range(n):\n",
        "\t\tfor j in range(n):\n",
        "\t\t\ts.add((arr[i], arr[j]))\n",
        "\n",
        "\t# Return the size of the set\n",
        "\treturn len(s)\n",
        "\n",
        "\n",
        "# Driver code\n",
        "\n",
        "arr = [ 1, 2, 2, 4, 2, 5, 3, 5 ]\n",
        "n = len(arr)\n",
        "print(countUnique(arr, n))\n",
        "\n",
        "# This code is contributed by ankush_953\n"
      ],
      "metadata": {
        "id": "iLqa3nLYCN_j"
      },
      "execution_count": null,
      "outputs": []
    },
    {
      "cell_type": "markdown",
      "source": [
        "[finding smallest number](https:/https://www.bing.com/ck/a?!&&p=4aad3ef26eadf79aJmltdHM9MTY2NzYwNjQwMCZpZ3VpZD0wNjE1ZTM0OC1lNmI2LTYwMWYtMGJmYi1mMTYzZTc0MTYxOGQmaW5zaWQ9NTQ0MA&ptn=3&hsh=3&fclid=0615e348-e6b6-601f-0bfb-f163e741618d&psq=Number+Patterns+%26+Finding+Smallest+Number&u=a1aHR0cHM6Ly93d3cuZ2Vla3Nmb3JnZWVrcy5vcmcvc21hbGxlc3QtbnVtYmVyLXJlYXJyYW5naW5nLWRpZ2l0cy1naXZlbi1udW1iZXIvIzp-OnRleHQ9MSUyMENvdW50JTIwdGhlJTIwZnJlcXVlbmN5JTIwb2YlMjBlYWNoJTIwZGlnaXQlMjBpbix0aGUlMjBmcmVxdWVuY3klMjBvZiUyMHRoYXQlMjBkaWdpdCUyMGJ5JTIwMS4lMjA&ntb=1/)"
      ],
      "metadata": {
        "id": "Ma-DGPAhCnRf"
      }
    },
    {
      "cell_type": "code",
      "source": [
        "# Function to find the smallest number\n",
        "def smallest(lst):\n",
        "\t\n",
        "\t# Here i is index and n is the number of the list\n",
        "\tfor i,n in enumerate(lst):\n",
        "\t\t\n",
        "\t\t# Checking for the first non-zero digit in the sorted list\n",
        "\t\tif n != '0':\n",
        "\t\t\t\n",
        "\t\t\t# Remove and store the digit from the lst\n",
        "\t\t\ttmp = lst.pop(i)\n",
        "\t\t\tbreak\n",
        "\t\n",
        "\t# Place the first non-zero digit at the starting\n",
        "\t# and return the final number\n",
        "\treturn str(tmp) + ''.join(lst)\n",
        "\n",
        "\n",
        "# Driver program\n",
        "if __name__ == '__main__':\n",
        "\t\n",
        "\t# Converting the given numbers into string to form a list\n",
        "\tlst = list(str(570107))\n",
        "\tlst.sort()\n",
        "\t\n",
        "\t# Calling the function using the above list\n",
        "\tprint (smallest(lst))\n",
        "\t\n",
        "# This code is contributed by Mahendra Yadav\n"
      ],
      "metadata": {
        "id": "9-QKNLJNC6hp"
      },
      "execution_count": null,
      "outputs": []
    },
    {
      "cell_type": "markdown",
      "source": [
        "[Minimum distance for truck to deliver order](https:/https://www.geeksforgeeks.org/minimum-distance-travel-cover-intervals//)"
      ],
      "metadata": {
        "id": "McN-nMwvC_I-"
      }
    },
    {
      "cell_type": "code",
      "source": [],
      "metadata": {
        "id": "_KgW4JyNFYow"
      },
      "execution_count": null,
      "outputs": []
    },
    {
      "cell_type": "markdown",
      "source": [
        "Generate balanced parentheses"
      ],
      "metadata": {
        "id": "iKlickgcFZON"
      }
    },
    {
      "cell_type": "code",
      "source": [
        "def brackets(expression):\n",
        "   all_br = ['()', '{}', '[]']\n",
        "   while any(x in expression for x in all_br):\n",
        "      for br in all_br:\n",
        "         expression = expression.replace(br, '')\n",
        "   return not expression\n",
        "\n",
        "# calling the function\n",
        "input_string = \"([]{}()\"\n",
        "if brackets(input_string):\n",
        "   print(input_string,\"balanced\")\n",
        "else:\n",
        "   print(input_string,\"Not balanced\")"
      ],
      "metadata": {
        "id": "U2zZCrYDFceX"
      },
      "execution_count": null,
      "outputs": []
    },
    {
      "cell_type": "markdown",
      "source": [],
      "metadata": {
        "id": "kedSk9V5FztO"
      }
    }
  ]
}