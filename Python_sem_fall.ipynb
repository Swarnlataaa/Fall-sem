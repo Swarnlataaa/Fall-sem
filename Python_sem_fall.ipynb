{
  "nbformat": 4,
  "nbformat_minor": 0,
  "metadata": {
    "colab": {
      "provenance": [],
      "collapsed_sections": [],
      "authorship_tag": "ABX9TyPGfC5Q9jZLXtXn6/bYJjVc",
      "include_colab_link": true
    },
    "kernelspec": {
      "name": "python3",
      "display_name": "Python 3"
    },
    "language_info": {
      "name": "python"
    }
  },
  "cells": [
    {
      "cell_type": "markdown",
      "metadata": {
        "id": "view-in-github",
        "colab_type": "text"
      },
      "source": [
        "<a href=\"https://colab.research.google.com/github/Swarnlataaa/Swarnlata/blob/main/Python_sem_fall.ipynb\" target=\"_parent\"><img src=\"https://colab.research.google.com/assets/colab-badge.svg\" alt=\"Open In Colab\"/></a>"
      ]
    },
    {
      "cell_type": "code",
      "execution_count": null,
      "metadata": {
        "id": "CnY_gnCrwVPO"
      },
      "outputs": [],
      "source": [
        "\n",
        "# Python program to check if the input number is odd or even.\n",
        "# A number is even if division by 2 gives a remainder of 0.\n",
        "# If the remainder is 1, it is an odd number.\n",
        "\n",
        "num = int(input(\"Enter a number: \"))\n",
        "if (num % 2) == 0:\n",
        "   print(\"{0} is Even\".format(num))\n",
        "else:\n",
        "   print(\"{0} is Odd\".format(num))"
      ]
    },
    {
      "cell_type": "code",
      "source": [
        "num = 11\n",
        "# If given number is greater than 1\n",
        "if num > 1:\n",
        "\t# Iterate from 2 to n / 2\n",
        "\tfor i in range(2, int(num/2)+1):\n",
        "\t\t# If num is divisible by any number between\n",
        "\t\t# 2 and n / 2, it is not prime\n",
        "\t\tif (num % i) == 0:\n",
        "\t\t\tprint(num, \"is not a prime number\")\n",
        "\t\t\tbreak\n",
        "\telse:\n",
        "\t\tprint(num, \"is a prime number\")\n",
        "else:\n",
        "\tprint(num, \"is not a prime number\")\n"
      ],
      "metadata": {
        "id": "JyvAHp4F1lt5"
      },
      "execution_count": null,
      "outputs": []
    },
    {
      "cell_type": "code",
      "source": [
        "from math import sqrt\n",
        "# n is the number to be check whether it is prime or not\n",
        "n = 1\n",
        "\n",
        "# this flag maintains status whether the n is prime or not\n",
        "prime_flag = 0\n",
        "\n",
        "if(n > 1):\n",
        "\tfor i in range(2, int(sqrt(n)) + 1):\n",
        "\t\tif (n % i == 0):\n",
        "\t\t\tprime_flag = 1\n",
        "\t\t\tbreak\n",
        "\tif (prime_flag == 0):\n",
        "\t\tprint(\"True\")\n",
        "\telse:\n",
        "\t\tprint(\"False\")\n",
        "else:\n",
        "\tprint(\"False\")\n",
        "\n",
        "#fastest algorithm to find out prime numbers."
      ],
      "metadata": {
        "id": "zu7XUIp45oMf"
      },
      "execution_count": null,
      "outputs": []
    }
  ]
}