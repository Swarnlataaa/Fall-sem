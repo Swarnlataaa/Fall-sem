{
  "nbformat": 4,
  "nbformat_minor": 0,
  "metadata": {
    "colab": {
      "provenance": [],
      "collapsed_sections": [],
      "authorship_tag": "ABX9TyOcd+3f8hF8jJSWUA+vKJrF",
      "include_colab_link": true
    },
    "kernelspec": {
      "name": "python3",
      "display_name": "Python 3"
    },
    "language_info": {
      "name": "python"
    }
  },
  "cells": [
    {
      "cell_type": "markdown",
      "metadata": {
        "id": "view-in-github",
        "colab_type": "text"
      },
      "source": [
        "<a href=\"https://colab.research.google.com/github/Swarnlataaa/Fall-sem/blob/main/Python.ipynb\" target=\"_parent\"><img src=\"https://colab.research.google.com/assets/colab-badge.svg\" alt=\"Open In Colab\"/></a>"
      ]
    },
    {
      "cell_type": "code",
      "execution_count": null,
      "metadata": {
        "colab": {
          "base_uri": "https://localhost:8080/"
        },
        "id": "3QghRr51YAkU",
        "outputId": "fd360b8e-6fda-43c6-b278-15871e6163bb"
      },
      "outputs": [
        {
          "output_type": "stream",
          "name": "stdout",
          "text": [
            "Type of a: <class 'int'>\n"
          ]
        }
      ],
      "source": [
        "a=5\n",
        "print(\"Type of a:\",type(a))"
      ]
    },
    {
      "cell_type": "code",
      "source": [
        "b=5.0\n",
        "print(\"\\nType of b:\",type(b))"
      ],
      "metadata": {
        "colab": {
          "base_uri": "https://localhost:8080/"
        },
        "id": "Oqsw2ZOIdcty",
        "outputId": "5191e8da-cece-4758-c100-9c2909ed4477"
      },
      "execution_count": null,
      "outputs": [
        {
          "output_type": "stream",
          "name": "stdout",
          "text": [
            "\n",
            "Type of b: <class 'float'>\n"
          ]
        }
      ]
    },
    {
      "cell_type": "code",
      "source": [
        "c=2+4j\n",
        "print(\"\\nType of c:\", type(c))"
      ],
      "metadata": {
        "colab": {
          "base_uri": "https://localhost:8080/"
        },
        "id": "Iu4ouBdcdtww",
        "outputId": "90dceb6b-a7c3-4358-b8e3-64b3fa1ccfb1"
      },
      "execution_count": null,
      "outputs": [
        {
          "output_type": "stream",
          "name": "stdout",
          "text": [
            "\n",
            "Type of c: <class 'complex'>\n"
          ]
        }
      ]
    },
    {
      "cell_type": "markdown",
      "source": [
        "Creating a string"
      ],
      "metadata": {
        "id": "zMdMY_XFeFCW"
      }
    },
    {
      "cell_type": "code",
      "source": [
        "String1 ='Welcome to VIT'\n",
        "print(\"\\nString with the use of single Quotes\")\n",
        "print(String1)"
      ],
      "metadata": {
        "id": "wIsRqYvueEep"
      },
      "execution_count": null,
      "outputs": []
    },
    {
      "cell_type": "markdown",
      "source": [
        "Creating a string with the use of double quotes\n"
      ],
      "metadata": {
        "id": "PubpcJ--fSLW"
      }
    },
    {
      "cell_type": "code",
      "source": [
        "String1 =\"I am at VIT\"\n",
        "print(\"\\nString with the use of Double Quotes:\")\n",
        "print(String1)\n",
        "print(type(String1))"
      ],
      "metadata": {
        "id": "kebQx9zZeJvm"
      },
      "execution_count": null,
      "outputs": []
    },
    {
      "cell_type": "code",
      "source": [
        "str1 ='Hello world'\n",
        "str2='how are you'\n",
        "print(str1[0:2]) #printing first two characters using slice operator\n",
        "print(str1[4]) #printing 5th character of the string\n",
        "print(str1*2) #printing the string twice\n",
        "print(str1 +str2)#printing the concatenation of string 1 and 2"
      ],
      "metadata": {
        "id": "BgnZLHqYgBED"
      },
      "execution_count": null,
      "outputs": []
    },
    {
      "cell_type": "markdown",
      "source": [
        "# **List** is an ordered sequence of items,\n",
        "most used data-type in python and is very flexible, all items in the list do not need to be the same type ,\n",
        "declaring the list is simple items seperated by commas are enclosed within brackets [].\n"
      ],
      "metadata": {
        "id": "eFdkvbpN9j1q"
      }
    },
    {
      "cell_type": "code",
      "source": [
        "a =[5,10,15,20,25,30,35,40]\n",
        "print(\"a[2] =\",a[2])\n",
        "print(\"a[0:3]=\", a[0:3])\n",
        "print(\"a[5:] =\", a[5:])"
      ],
      "metadata": {
        "colab": {
          "base_uri": "https://localhost:8080/"
        },
        "id": "5wzr6-pa70OQ",
        "outputId": "18713b81-7bb2-461d-fadf-cc947c6d501a"
      },
      "execution_count": null,
      "outputs": [
        {
          "output_type": "stream",
          "name": "stdout",
          "text": [
            "a[2] = 15\n",
            "a[0:3]= [5, 10, 15]\n",
            "a[5:] = [30, 35, 40]\n"
          ]
        }
      ]
    },
    {
      "cell_type": "markdown",
      "source": [
        "# **`Tuple `\n",
        " is an ordered sequence of items same as list.** The only difference is *tuple is immutable*, once created cannot be modified.\n",
        "\n",
        "Tuple are used to write protect data,and is *faster than lists as cannot change dynamically.*\n"
      ],
      "metadata": {
        "id": "lnwBCg5M_Z9V"
      }
    },
    {
      "cell_type": "code",
      "source": [
        "t =(5,'program',1+3j)\n",
        "print(\"t[1]\", t[1])\n",
        "print(\"t[0:3\",t[0:3])\n",
        "\n",
        "#try doing t[0]=10 it will show error tuples are immutable"
      ],
      "metadata": {
        "id": "VBaev1SuBIej"
      },
      "execution_count": null,
      "outputs": []
    },
    {
      "cell_type": "markdown",
      "source": [
        "## Boolean"
      ],
      "metadata": {
        "id": "MITOIzZqCjWj"
      }
    },
    {
      "cell_type": "code",
      "source": [
        "print(10>9)\n",
        "print(10==9)\n",
        "print(10<9)\n"
      ],
      "metadata": {
        "colab": {
          "base_uri": "https://localhost:8080/"
        },
        "id": "SsDGANKWCnXk",
        "outputId": "2fccff0b-7e59-46f8-edba-3d9bdc981e5e"
      },
      "execution_count": null,
      "outputs": [
        {
          "output_type": "stream",
          "name": "stdout",
          "text": [
            "True\n",
            "False\n",
            "False\n"
          ]
        }
      ]
    },
    {
      "cell_type": "markdown",
      "source": [
        "##Sets"
      ],
      "metadata": {
        "id": "5FiPkGSQCyeg"
      }
    },
    {
      "cell_type": "code",
      "source": [
        "Months =set([\"January\",\"Feb\",\"March\",\"April\",\"May\",\"June\",])\n",
        "print(\"\\nprinting the original set...\")\n",
        "print(Months)\n",
        "print(\"\\nAdding other months to the set...\");\n",
        "Months.add(\"August\"); #why will it add august in the second\n",
        "print(\"\\nPrinting the modified set...\");\n",
        "print(Months)"
      ],
      "metadata": {
        "colab": {
          "base_uri": "https://localhost:8080/"
        },
        "id": "Tiz4QCIKC1LI",
        "outputId": "46324966-a35b-4b98-9c96-b7e4938ca32d"
      },
      "execution_count": null,
      "outputs": [
        {
          "output_type": "stream",
          "name": "stdout",
          "text": [
            "\n",
            "printing the original set...\n",
            "{'Feb', 'April', 'March', 'May', 'June', 'January'}\n",
            "\n",
            "Adding other months to the set...\n",
            "\n",
            "Printing the modified set...\n",
            "{'Feb', 'August', 'April', 'March', 'May', 'June', 'January'}\n"
          ]
        }
      ]
    },
    {
      "cell_type": "code",
      "source": [
        "Months =set([\"January\",\"Febuary\",\"March\",\"April\",\"May\",\"June\",])\n",
        "print(\"\\nprinting the original set..\")\n",
        "print(Months)\n",
        "print(\"\\nupdating set\")\n",
        "Months.update([\"July\",\"August\",\"September\",\"October\"]); #why still upadting at the second number and october is at the last\n",
        "print(\"\\nprinting the modified set...\")\n",
        "print(Months);"
      ],
      "metadata": {
        "colab": {
          "base_uri": "https://localhost:8080/"
        },
        "id": "pZOiBKu_EMxd",
        "outputId": "f24417a1-df81-47bb-e58d-37606413d154"
      },
      "execution_count": null,
      "outputs": [
        {
          "output_type": "stream",
          "name": "stdout",
          "text": [
            "\n",
            "printing the original set..\n",
            "{'Febuary', 'April', 'March', 'May', 'June', 'January'}\n",
            "\n",
            "printing the updated set\n",
            "\n",
            "printing the modified set...\n",
            "{'Febuary', 'July', 'August', 'September', 'April', 'March', 'May', 'June', 'January', 'October'}\n"
          ]
        }
      ]
    },
    {
      "cell_type": "code",
      "source": [
        "months= set([\"January\",\"Feb\",\"march\",\"april\",\"may\",\"june\"])\n",
        "print(\"\\nprinting the original set...\")\n",
        "print(months)\n",
        "print(\"\\nremoving some months from the set... \");\n",
        "months.discard(\"January\");\n",
        "months.discard(\"May\");\n",
        "print(\"\\nPrinting the modified set...\");\n",
        "print(months)\n",
        "\n",
        "#removing the items from the months\n",
        "months.clear()\n",
        "print(\"\\nremoving all items from the set...\")"
      ],
      "metadata": {
        "colab": {
          "base_uri": "https://localhost:8080/"
        },
        "id": "YF8R8H8yF2nA",
        "outputId": "15698197-560c-4308-b80f-2dd02c30764f"
      },
      "execution_count": null,
      "outputs": [
        {
          "output_type": "stream",
          "name": "stdout",
          "text": [
            "\n",
            "printing the original set...\n",
            "{'may', 'Feb', 'march', 'april', 'june', 'January'}\n",
            "\n",
            "removing some months from the set... \n",
            "\n",
            "Printing the modified set...\n",
            "{'may', 'Feb', 'march', 'april', 'june'}\n"
          ]
        }
      ]
    },
    {
      "cell_type": "markdown",
      "source": [
        "## Union\n"
      ],
      "metadata": {
        "id": "IL8I4A_yHXtn"
      }
    },
    {
      "cell_type": "code",
      "source": [
        "Days1 ={\"Monday\",\"Tuesday\",\"Wednesday\",\"Thursday\"}\n",
        "Days2 ={\"Friday\",\"Saturday\",\"Sunday\"}\n",
        "print(Days1.union(Days2)) #printing the union of the sets"
      ],
      "metadata": {
        "colab": {
          "base_uri": "https://localhost:8080/"
        },
        "id": "Z-uxtPWyGL1M",
        "outputId": "23534282-78b0-4621-a066-55d356089c8b"
      },
      "execution_count": null,
      "outputs": [
        {
          "output_type": "stream",
          "name": "stdout",
          "text": [
            "{'Thursday', 'Sunday', 'Wednesday', 'Monday', 'Friday', 'Tuesday', 'Saturday'}\n"
          ]
        }
      ]
    },
    {
      "cell_type": "markdown",
      "source": [
        "## Intersection"
      ],
      "metadata": {
        "id": "6w4UxJITIOrX"
      }
    },
    {
      "cell_type": "code",
      "source": [
        "set1={\"Devansh\",\"John\",\"David\",\"Martin\"}\n",
        "set2={\"Steve\",\"Milan\",\"David\",\"Martin\"}\n",
        "print(set1.intersection(Set2))"
      ],
      "metadata": {
        "id": "jVNjL0GCIREN"
      },
      "execution_count": null,
      "outputs": []
    },
    {
      "cell_type": "markdown",
      "source": [
        "##Difference"
      ],
      "metadata": {
        "id": "wd5TlGpDImP5"
      }
    },
    {
      "cell_type": "code",
      "source": [
        "Days1 ={\"Monday\",\"Tuesday\",\"Wednesday\",\"Thursday\"}\n",
        "Days2 ={\"Monday\",\"Tuesday\",\"Sunday\"}\n",
        "print(Days1.difference(Days2))"
      ],
      "metadata": {
        "id": "dWEWV-CbIoa_"
      },
      "execution_count": null,
      "outputs": []
    },
    {
      "cell_type": "markdown",
      "source": [
        "##Symmetric diffrence of two sets"
      ],
      "metadata": {
        "id": "bDvcjMu7JUem"
      }
    },
    {
      "cell_type": "code",
      "source": [
        "a={1,2,3,4,5,6}\n",
        "b={1,2,8,9,10}\n",
        "c=a.symmetric_difference(b)\n",
        "print(c)"
      ],
      "metadata": {
        "id": "jyI360ctJgFA"
      },
      "execution_count": null,
      "outputs": []
    },
    {
      "cell_type": "markdown",
      "source": [
        "List : collection which is ordered and changeable\n",
        "Tuple : collection which is ordered and unchangeable\n",
        "Set: is a collection of unordered ,unindexed,unchangable no duplicate member\n",
        "Dictonary is a collection which is ordered and changeable no duplicate members\n",
        "\n",
        "\n",
        "\n"
      ],
      "metadata": {
        "id": "kf9u4ovFhdgf"
      }
    },
    {
      "cell_type": "code",
      "source": [],
      "metadata": {
        "id": "MPHtOS1l5GQD"
      },
      "execution_count": null,
      "outputs": []
    }
  ]
}